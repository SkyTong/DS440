{
 "cells": [
  {
   "cell_type": "code",
   "outputs": [
    {
     "name": "stdout",
     "output_type": "stream",
     "text": [
      "Requirement already satisfied: pandas in e:\\ds440proj\\btcpred\\.venv\\lib\\site-packages (2.2.0)\n",
      "Requirement already satisfied: numpy<2,>=1.22.4 in e:\\ds440proj\\btcpred\\.venv\\lib\\site-packages (from pandas) (1.26.3)\n",
      "Requirement already satisfied: python-dateutil>=2.8.2 in e:\\ds440proj\\btcpred\\.venv\\lib\\site-packages (from pandas) (2.8.2)\n",
      "Requirement already satisfied: pytz>=2020.1 in e:\\ds440proj\\btcpred\\.venv\\lib\\site-packages (from pandas) (2024.1)\n",
      "Requirement already satisfied: tzdata>=2022.7 in e:\\ds440proj\\btcpred\\.venv\\lib\\site-packages (from pandas) (2023.4)\n",
      "Requirement already satisfied: six>=1.5 in e:\\ds440proj\\btcpred\\.venv\\lib\\site-packages (from python-dateutil>=2.8.2->pandas) (1.16.0)\n"
     ]
    },
    {
     "name": "stderr",
     "output_type": "stream",
     "text": [
      "\n",
      "[notice] A new release of pip is available: 23.2.1 -> 24.0\n",
      "[notice] To update, run: python.exe -m pip install --upgrade pip\n"
     ]
    }
   ],
   "source": [
    "!pip install pandas"
   ],
   "metadata": {
    "collapsed": false,
    "ExecuteTime": {
     "end_time": "2024-02-19T21:29:57.178413900Z",
     "start_time": "2024-02-19T21:29:55.898814300Z"
    }
   },
   "id": "91b6662ff774368e",
   "execution_count": 2
  },
  {
   "cell_type": "code",
   "execution_count": 53,
   "id": "initial_id",
   "metadata": {
    "collapsed": true,
    "ExecuteTime": {
     "end_time": "2024-02-19T23:49:23.408855200Z",
     "start_time": "2024-02-19T23:49:23.399102100Z"
    }
   },
   "outputs": [],
   "source": [
    "import pandas as pd\n",
    "import os"
   ]
  },
  {
   "cell_type": "code",
   "outputs": [
    {
     "name": "stdout",
     "output_type": "stream",
     "text": [
      "                    Datetime  SP500  DOW30  EuroStoxx50  NASDAQ  CrudeOil  \\\n",
      "0  2022-02-09 09:30:00+08:00    NaN    NaN          NaN     NaN       NaN   \n",
      "1  2022-02-09 10:30:00+08:00    NaN    NaN          NaN     NaN       NaN   \n",
      "2  2022-02-09 11:30:00+08:00    NaN    NaN          NaN     NaN       NaN   \n",
      "3  2022-02-09 12:30:00+08:00    NaN    NaN          NaN     NaN       NaN   \n",
      "4  2022-02-09 13:30:00+08:00    NaN    NaN          NaN     NaN       NaN   \n",
      "\n",
      "           SSE  Gold  VIX  Nikkei225  FTSE100  EURUSD  CNYUSD  GBPUSD  JPYUSD  \\\n",
      "0  3465.004883   NaN  NaN        NaN      NaN     NaN     NaN     NaN     NaN   \n",
      "1  3467.037354   NaN  NaN        NaN      NaN     NaN     NaN     NaN     NaN   \n",
      "2  3466.365234   NaN  NaN        NaN      NaN     NaN     NaN     NaN     NaN   \n",
      "3  3479.272461   NaN  NaN        NaN      NaN     NaN     NaN     NaN     NaN   \n",
      "4  3480.633789   NaN  NaN        NaN      NaN     NaN     NaN     NaN     NaN   \n",
      "\n",
      "   CHFUSD  \n",
      "0     NaN  \n",
      "1     NaN  \n",
      "2     NaN  \n",
      "3     NaN  \n",
      "4     NaN  \n"
     ]
    }
   ],
   "source": [
    "# Define the path to the CSV file\n",
    "csv_file_path = r'E:\\DS440proj\\BTCpred\\volume\\data\\raw\\Macro\\raw_data.csv'\n",
    "\n",
    "# Read the CSV file\n",
    "df = pd.read_csv(csv_file_path)\n",
    "\n",
    "# Display the first few rows of the dataframe\n",
    "print(df.head())"
   ],
   "metadata": {
    "collapsed": false,
    "ExecuteTime": {
     "end_time": "2024-02-19T23:49:23.928991300Z",
     "start_time": "2024-02-19T23:49:23.889902100Z"
    }
   },
   "id": "378819d0105cfdaa",
   "execution_count": 54
  },
  {
   "cell_type": "code",
   "outputs": [],
   "source": [
    "def fill_single_interval_missings(dataframe, columns):\n",
    "    for column in columns:\n",
    "        # Loop through each row except the first and last\n",
    "        for i in range(1, len(dataframe) - 1):\n",
    "            # Check if the current value is NaN and neighbors are not\n",
    "            if pd.isna(dataframe.at[dataframe.index[i], column]) and \\\n",
    "               not pd.isna(dataframe.at[dataframe.index[i - 1], column]) and \\\n",
    "               not pd.isna(dataframe.at[dataframe.index[i + 1], column]):\n",
    "                # Calculate the midpoint of its neighbors\n",
    "                midpoint = (dataframe.at[dataframe.index[i - 1], column] + dataframe.at[dataframe.index[i + 1], column]) / 2\n",
    "                # Replace the NaN with the midpoint\n",
    "                dataframe.at[dataframe.index[i], column] = midpoint\n",
    "    return dataframe\n",
    "\n",
    "# Replace single-interval missing values for specified columns\n",
    "df = fill_single_interval_missings(df, ['SP500', 'DOW30', 'NASDAQ','SSE'])\n"
   ],
   "metadata": {
    "collapsed": false,
    "ExecuteTime": {
     "end_time": "2024-02-19T23:50:41.478256400Z",
     "start_time": "2024-02-19T23:50:40.829294900Z"
    }
   },
   "id": "97998f0778fd5329",
   "execution_count": 56
  },
  {
   "cell_type": "code",
   "outputs": [
    {
     "data": {
      "text/plain": "                        Datetime  SP500  DOW30  EuroStoxx50  NASDAQ  \\\n0      2022-02-09 09:30:00+08:00    NaN    NaN          NaN     NaN   \n1      2022-02-09 10:30:00+08:00    NaN    NaN          NaN     NaN   \n2      2022-02-09 11:30:00+08:00    NaN    NaN          NaN     NaN   \n3      2022-02-09 12:30:00+08:00    NaN    NaN          NaN     NaN   \n4      2022-02-09 13:30:00+08:00    NaN    NaN          NaN     NaN   \n...                          ...    ...    ...          ...     ...   \n18969  2024-02-12 22:00:00+00:00    NaN    NaN          NaN     NaN   \n18970  2024-02-12 18:00:00-05:00    NaN    NaN          NaN     NaN   \n18971  2024-02-12 19:00:00-05:00    NaN    NaN          NaN     NaN   \n18972  2024-02-12 20:00:00-05:00    NaN    NaN          NaN     NaN   \n18973  2024-02-13 02:00:00+00:00    NaN    NaN          NaN     NaN   \n\n        CrudeOil          SSE    Gold  VIX     Nikkei225  FTSE100    EURUSD  \\\n0            NaN  3465.004883     NaN  NaN           NaN      NaN       NaN   \n1            NaN  3467.037354     NaN  NaN           NaN      NaN       NaN   \n2            NaN  3466.365234     NaN  NaN           NaN      NaN       NaN   \n3            NaN  3479.272461     NaN  NaN           NaN      NaN       NaN   \n4            NaN  3480.633789     NaN  NaN           NaN      NaN       NaN   \n...          ...          ...     ...  ...           ...      ...       ...   \n18969        NaN          NaN     NaN  NaN           NaN      NaN  1.077470   \n18970  76.980003          NaN  2032.5  NaN           NaN      NaN  1.077470   \n18971  76.940002          NaN  2033.0  NaN  37517.210938      NaN  1.077586   \n18972  77.019997          NaN  2033.5  NaN  37636.980469      NaN  1.077006   \n18973        NaN          NaN     NaN  NaN           NaN      NaN  1.077006   \n\n         CNYUSD    GBPUSD    JPYUSD    CHFUSD  \n0           NaN       NaN       NaN       NaN  \n1           NaN       NaN       NaN       NaN  \n2           NaN       NaN       NaN       NaN  \n3           NaN       NaN       NaN       NaN  \n4           NaN       NaN       NaN       NaN  \n...         ...       ...       ...       ...  \n18969  0.139036  1.262834  0.006697  1.142348  \n18970  0.139036  1.262690  0.006693  1.141735  \n18971       NaN  1.262563  0.006698  1.141800  \n18972  0.139036  1.262100  0.006695  1.141448  \n18973       NaN  1.262005  0.006695  1.141435  \n\n[18974 rows x 16 columns]",
      "text/html": "<div>\n<style scoped>\n    .dataframe tbody tr th:only-of-type {\n        vertical-align: middle;\n    }\n\n    .dataframe tbody tr th {\n        vertical-align: top;\n    }\n\n    .dataframe thead th {\n        text-align: right;\n    }\n</style>\n<table border=\"1\" class=\"dataframe\">\n  <thead>\n    <tr style=\"text-align: right;\">\n      <th></th>\n      <th>Datetime</th>\n      <th>SP500</th>\n      <th>DOW30</th>\n      <th>EuroStoxx50</th>\n      <th>NASDAQ</th>\n      <th>CrudeOil</th>\n      <th>SSE</th>\n      <th>Gold</th>\n      <th>VIX</th>\n      <th>Nikkei225</th>\n      <th>FTSE100</th>\n      <th>EURUSD</th>\n      <th>CNYUSD</th>\n      <th>GBPUSD</th>\n      <th>JPYUSD</th>\n      <th>CHFUSD</th>\n    </tr>\n  </thead>\n  <tbody>\n    <tr>\n      <th>0</th>\n      <td>2022-02-09 09:30:00+08:00</td>\n      <td>NaN</td>\n      <td>NaN</td>\n      <td>NaN</td>\n      <td>NaN</td>\n      <td>NaN</td>\n      <td>3465.004883</td>\n      <td>NaN</td>\n      <td>NaN</td>\n      <td>NaN</td>\n      <td>NaN</td>\n      <td>NaN</td>\n      <td>NaN</td>\n      <td>NaN</td>\n      <td>NaN</td>\n      <td>NaN</td>\n    </tr>\n    <tr>\n      <th>1</th>\n      <td>2022-02-09 10:30:00+08:00</td>\n      <td>NaN</td>\n      <td>NaN</td>\n      <td>NaN</td>\n      <td>NaN</td>\n      <td>NaN</td>\n      <td>3467.037354</td>\n      <td>NaN</td>\n      <td>NaN</td>\n      <td>NaN</td>\n      <td>NaN</td>\n      <td>NaN</td>\n      <td>NaN</td>\n      <td>NaN</td>\n      <td>NaN</td>\n      <td>NaN</td>\n    </tr>\n    <tr>\n      <th>2</th>\n      <td>2022-02-09 11:30:00+08:00</td>\n      <td>NaN</td>\n      <td>NaN</td>\n      <td>NaN</td>\n      <td>NaN</td>\n      <td>NaN</td>\n      <td>3466.365234</td>\n      <td>NaN</td>\n      <td>NaN</td>\n      <td>NaN</td>\n      <td>NaN</td>\n      <td>NaN</td>\n      <td>NaN</td>\n      <td>NaN</td>\n      <td>NaN</td>\n      <td>NaN</td>\n    </tr>\n    <tr>\n      <th>3</th>\n      <td>2022-02-09 12:30:00+08:00</td>\n      <td>NaN</td>\n      <td>NaN</td>\n      <td>NaN</td>\n      <td>NaN</td>\n      <td>NaN</td>\n      <td>3479.272461</td>\n      <td>NaN</td>\n      <td>NaN</td>\n      <td>NaN</td>\n      <td>NaN</td>\n      <td>NaN</td>\n      <td>NaN</td>\n      <td>NaN</td>\n      <td>NaN</td>\n      <td>NaN</td>\n    </tr>\n    <tr>\n      <th>4</th>\n      <td>2022-02-09 13:30:00+08:00</td>\n      <td>NaN</td>\n      <td>NaN</td>\n      <td>NaN</td>\n      <td>NaN</td>\n      <td>NaN</td>\n      <td>3480.633789</td>\n      <td>NaN</td>\n      <td>NaN</td>\n      <td>NaN</td>\n      <td>NaN</td>\n      <td>NaN</td>\n      <td>NaN</td>\n      <td>NaN</td>\n      <td>NaN</td>\n      <td>NaN</td>\n    </tr>\n    <tr>\n      <th>...</th>\n      <td>...</td>\n      <td>...</td>\n      <td>...</td>\n      <td>...</td>\n      <td>...</td>\n      <td>...</td>\n      <td>...</td>\n      <td>...</td>\n      <td>...</td>\n      <td>...</td>\n      <td>...</td>\n      <td>...</td>\n      <td>...</td>\n      <td>...</td>\n      <td>...</td>\n      <td>...</td>\n    </tr>\n    <tr>\n      <th>18969</th>\n      <td>2024-02-12 22:00:00+00:00</td>\n      <td>NaN</td>\n      <td>NaN</td>\n      <td>NaN</td>\n      <td>NaN</td>\n      <td>NaN</td>\n      <td>NaN</td>\n      <td>NaN</td>\n      <td>NaN</td>\n      <td>NaN</td>\n      <td>NaN</td>\n      <td>1.077470</td>\n      <td>0.139036</td>\n      <td>1.262834</td>\n      <td>0.006697</td>\n      <td>1.142348</td>\n    </tr>\n    <tr>\n      <th>18970</th>\n      <td>2024-02-12 18:00:00-05:00</td>\n      <td>NaN</td>\n      <td>NaN</td>\n      <td>NaN</td>\n      <td>NaN</td>\n      <td>76.980003</td>\n      <td>NaN</td>\n      <td>2032.5</td>\n      <td>NaN</td>\n      <td>NaN</td>\n      <td>NaN</td>\n      <td>1.077470</td>\n      <td>0.139036</td>\n      <td>1.262690</td>\n      <td>0.006693</td>\n      <td>1.141735</td>\n    </tr>\n    <tr>\n      <th>18971</th>\n      <td>2024-02-12 19:00:00-05:00</td>\n      <td>NaN</td>\n      <td>NaN</td>\n      <td>NaN</td>\n      <td>NaN</td>\n      <td>76.940002</td>\n      <td>NaN</td>\n      <td>2033.0</td>\n      <td>NaN</td>\n      <td>37517.210938</td>\n      <td>NaN</td>\n      <td>1.077586</td>\n      <td>NaN</td>\n      <td>1.262563</td>\n      <td>0.006698</td>\n      <td>1.141800</td>\n    </tr>\n    <tr>\n      <th>18972</th>\n      <td>2024-02-12 20:00:00-05:00</td>\n      <td>NaN</td>\n      <td>NaN</td>\n      <td>NaN</td>\n      <td>NaN</td>\n      <td>77.019997</td>\n      <td>NaN</td>\n      <td>2033.5</td>\n      <td>NaN</td>\n      <td>37636.980469</td>\n      <td>NaN</td>\n      <td>1.077006</td>\n      <td>0.139036</td>\n      <td>1.262100</td>\n      <td>0.006695</td>\n      <td>1.141448</td>\n    </tr>\n    <tr>\n      <th>18973</th>\n      <td>2024-02-13 02:00:00+00:00</td>\n      <td>NaN</td>\n      <td>NaN</td>\n      <td>NaN</td>\n      <td>NaN</td>\n      <td>NaN</td>\n      <td>NaN</td>\n      <td>NaN</td>\n      <td>NaN</td>\n      <td>NaN</td>\n      <td>NaN</td>\n      <td>1.077006</td>\n      <td>NaN</td>\n      <td>1.262005</td>\n      <td>0.006695</td>\n      <td>1.141435</td>\n    </tr>\n  </tbody>\n</table>\n<p>18974 rows × 16 columns</p>\n</div>"
     },
     "execution_count": 58,
     "metadata": {},
     "output_type": "execute_result"
    }
   ],
   "source": [
    "df"
   ],
   "metadata": {
    "collapsed": false,
    "ExecuteTime": {
     "end_time": "2024-02-19T23:50:57.240838500Z",
     "start_time": "2024-02-19T23:50:57.224729600Z"
    }
   },
   "id": "cb5c183b71951012",
   "execution_count": 58
  },
  {
   "cell_type": "code",
   "outputs": [],
   "source": [],
   "metadata": {
    "collapsed": false,
    "ExecuteTime": {
     "end_time": "2024-02-19T23:50:58.187620400Z",
     "start_time": "2024-02-19T23:50:58.168437200Z"
    }
   },
   "id": "98ab67b2fd79efe2",
   "execution_count": 58
  },
  {
   "cell_type": "code",
   "outputs": [],
   "source": [],
   "metadata": {
    "collapsed": false,
    "ExecuteTime": {
     "end_time": "2024-02-19T21:53:52.198192900Z",
     "start_time": "2024-02-19T21:53:52.051689800Z"
    }
   },
   "id": "b5da8918cb25c901",
   "execution_count": 9
  },
  {
   "cell_type": "code",
   "outputs": [
    {
     "data": {
      "text/plain": "                    Datetime  SP500  DOW30  EuroStoxx50  NASDAQ   CrudeOil  \\\n18 2022-02-13 18:00:00-05:00    NaN    NaN          NaN     NaN  94.379997   \n19 2022-02-13 19:00:00-05:00    NaN    NaN          NaN     NaN  94.540001   \n20 2022-02-13 20:00:00-05:00    NaN    NaN          NaN     NaN  94.610001   \n22 2022-02-13 21:00:00-05:00    NaN    NaN          NaN     NaN  94.680000   \n24 2022-02-13 22:00:00-05:00    NaN    NaN          NaN     NaN  94.440002   \n\n            SSE         Gold  VIX     Nikkei225  FTSE100    EURUSD    CNYUSD  \\\n18          NaN  1861.099976  NaN           NaN      NaN       NaN       NaN   \n19          NaN  1859.599976  NaN  27128.310547      NaN  1.136622  0.157381   \n20          NaN  1861.099976  NaN  26986.789062      NaN  1.135718  0.157230   \n22  3442.088135  1856.000000  NaN  26970.339844      NaN  1.134687  0.157252   \n24  3441.650024  1854.300049  NaN  27118.580078      NaN  1.134816  0.157250   \n\n      GBPUSD    JPYUSD    CHFUSD  \n18       NaN       NaN       NaN  \n19  1.356337  0.008666  1.081432  \n20  1.355528  0.008671  1.081326  \n22  1.354224  0.008660  1.080555  \n24  1.353693  0.008658  1.080976  ",
      "text/html": "<div>\n<style scoped>\n    .dataframe tbody tr th:only-of-type {\n        vertical-align: middle;\n    }\n\n    .dataframe tbody tr th {\n        vertical-align: top;\n    }\n\n    .dataframe thead th {\n        text-align: right;\n    }\n</style>\n<table border=\"1\" class=\"dataframe\">\n  <thead>\n    <tr style=\"text-align: right;\">\n      <th></th>\n      <th>Datetime</th>\n      <th>SP500</th>\n      <th>DOW30</th>\n      <th>EuroStoxx50</th>\n      <th>NASDAQ</th>\n      <th>CrudeOil</th>\n      <th>SSE</th>\n      <th>Gold</th>\n      <th>VIX</th>\n      <th>Nikkei225</th>\n      <th>FTSE100</th>\n      <th>EURUSD</th>\n      <th>CNYUSD</th>\n      <th>GBPUSD</th>\n      <th>JPYUSD</th>\n      <th>CHFUSD</th>\n    </tr>\n  </thead>\n  <tbody>\n    <tr>\n      <th>18</th>\n      <td>2022-02-13 18:00:00-05:00</td>\n      <td>NaN</td>\n      <td>NaN</td>\n      <td>NaN</td>\n      <td>NaN</td>\n      <td>94.379997</td>\n      <td>NaN</td>\n      <td>1861.099976</td>\n      <td>NaN</td>\n      <td>NaN</td>\n      <td>NaN</td>\n      <td>NaN</td>\n      <td>NaN</td>\n      <td>NaN</td>\n      <td>NaN</td>\n      <td>NaN</td>\n    </tr>\n    <tr>\n      <th>19</th>\n      <td>2022-02-13 19:00:00-05:00</td>\n      <td>NaN</td>\n      <td>NaN</td>\n      <td>NaN</td>\n      <td>NaN</td>\n      <td>94.540001</td>\n      <td>NaN</td>\n      <td>1859.599976</td>\n      <td>NaN</td>\n      <td>27128.310547</td>\n      <td>NaN</td>\n      <td>1.136622</td>\n      <td>0.157381</td>\n      <td>1.356337</td>\n      <td>0.008666</td>\n      <td>1.081432</td>\n    </tr>\n    <tr>\n      <th>20</th>\n      <td>2022-02-13 20:00:00-05:00</td>\n      <td>NaN</td>\n      <td>NaN</td>\n      <td>NaN</td>\n      <td>NaN</td>\n      <td>94.610001</td>\n      <td>NaN</td>\n      <td>1861.099976</td>\n      <td>NaN</td>\n      <td>26986.789062</td>\n      <td>NaN</td>\n      <td>1.135718</td>\n      <td>0.157230</td>\n      <td>1.355528</td>\n      <td>0.008671</td>\n      <td>1.081326</td>\n    </tr>\n    <tr>\n      <th>22</th>\n      <td>2022-02-13 21:00:00-05:00</td>\n      <td>NaN</td>\n      <td>NaN</td>\n      <td>NaN</td>\n      <td>NaN</td>\n      <td>94.680000</td>\n      <td>3442.088135</td>\n      <td>1856.000000</td>\n      <td>NaN</td>\n      <td>26970.339844</td>\n      <td>NaN</td>\n      <td>1.134687</td>\n      <td>0.157252</td>\n      <td>1.354224</td>\n      <td>0.008660</td>\n      <td>1.080555</td>\n    </tr>\n    <tr>\n      <th>24</th>\n      <td>2022-02-13 22:00:00-05:00</td>\n      <td>NaN</td>\n      <td>NaN</td>\n      <td>NaN</td>\n      <td>NaN</td>\n      <td>94.440002</td>\n      <td>3441.650024</td>\n      <td>1854.300049</td>\n      <td>NaN</td>\n      <td>27118.580078</td>\n      <td>NaN</td>\n      <td>1.134816</td>\n      <td>0.157250</td>\n      <td>1.353693</td>\n      <td>0.008658</td>\n      <td>1.080976</td>\n    </tr>\n  </tbody>\n</table>\n</div>"
     },
     "execution_count": 59,
     "metadata": {},
     "output_type": "execute_result"
    }
   ],
   "source": [
    "from pytz import timezone\n",
    "\n",
    "# Convert 'Datetime' to datetime object and set timezone to UTC since original times are in +08:00\n",
    "df['Datetime'] = pd.to_datetime(df['Datetime'], utc=True)\n",
    "\n",
    "# Convert 'Datetime' from UTC to Eastern Time (considering Eastern Standard Time without daylight saving)\n",
    "df['Datetime'] = df['Datetime'].dt.tz_convert('EST')\n",
    "\n",
    "# Remove rows with half-hour times\n",
    "df = df[~df['Datetime'].dt.minute.isin([30])]\n",
    "\n",
    "# Display the first few rows of the modified dataframe\n",
    "df.head()"
   ],
   "metadata": {
    "collapsed": false,
    "ExecuteTime": {
     "end_time": "2024-02-19T23:51:09.605855600Z",
     "start_time": "2024-02-19T23:51:09.588672100Z"
    }
   },
   "id": "a4c67b1f7b7d4214",
   "execution_count": 59
  },
  {
   "cell_type": "code",
   "outputs": [
    {
     "name": "stderr",
     "output_type": "stream",
     "text": [
      "C:\\Users\\13275\\AppData\\Local\\Temp\\ipykernel_46268\\1185419078.py:1: FutureWarning: DataFrame.fillna with 'method' is deprecated and will raise in a future version. Use obj.ffill() or obj.bfill() instead.\n",
      "  data_filled = df.fillna(method='ffill')\n"
     ]
    },
    {
     "data": {
      "text/plain": "                    Datetime  SP500  DOW30  EuroStoxx50  NASDAQ   CrudeOil  \\\n18 2022-02-13 18:00:00-05:00    NaN    NaN          NaN     NaN  94.379997   \n19 2022-02-13 19:00:00-05:00    NaN    NaN          NaN     NaN  94.540001   \n20 2022-02-13 20:00:00-05:00    NaN    NaN          NaN     NaN  94.610001   \n22 2022-02-13 21:00:00-05:00    NaN    NaN          NaN     NaN  94.680000   \n24 2022-02-13 22:00:00-05:00    NaN    NaN          NaN     NaN  94.440002   \n\n            SSE         Gold  VIX     Nikkei225  FTSE100    EURUSD    CNYUSD  \\\n18          NaN  1861.099976  NaN           NaN      NaN       NaN       NaN   \n19          NaN  1859.599976  NaN  27128.310547      NaN  1.136622  0.157381   \n20          NaN  1861.099976  NaN  26986.789062      NaN  1.135718  0.157230   \n22  3442.088135  1856.000000  NaN  26970.339844      NaN  1.134687  0.157252   \n24  3441.650024  1854.300049  NaN  27118.580078      NaN  1.134816  0.157250   \n\n      GBPUSD    JPYUSD    CHFUSD  \n18       NaN       NaN       NaN  \n19  1.356337  0.008666  1.081432  \n20  1.355528  0.008671  1.081326  \n22  1.354224  0.008660  1.080555  \n24  1.353693  0.008658  1.080976  ",
      "text/html": "<div>\n<style scoped>\n    .dataframe tbody tr th:only-of-type {\n        vertical-align: middle;\n    }\n\n    .dataframe tbody tr th {\n        vertical-align: top;\n    }\n\n    .dataframe thead th {\n        text-align: right;\n    }\n</style>\n<table border=\"1\" class=\"dataframe\">\n  <thead>\n    <tr style=\"text-align: right;\">\n      <th></th>\n      <th>Datetime</th>\n      <th>SP500</th>\n      <th>DOW30</th>\n      <th>EuroStoxx50</th>\n      <th>NASDAQ</th>\n      <th>CrudeOil</th>\n      <th>SSE</th>\n      <th>Gold</th>\n      <th>VIX</th>\n      <th>Nikkei225</th>\n      <th>FTSE100</th>\n      <th>EURUSD</th>\n      <th>CNYUSD</th>\n      <th>GBPUSD</th>\n      <th>JPYUSD</th>\n      <th>CHFUSD</th>\n    </tr>\n  </thead>\n  <tbody>\n    <tr>\n      <th>18</th>\n      <td>2022-02-13 18:00:00-05:00</td>\n      <td>NaN</td>\n      <td>NaN</td>\n      <td>NaN</td>\n      <td>NaN</td>\n      <td>94.379997</td>\n      <td>NaN</td>\n      <td>1861.099976</td>\n      <td>NaN</td>\n      <td>NaN</td>\n      <td>NaN</td>\n      <td>NaN</td>\n      <td>NaN</td>\n      <td>NaN</td>\n      <td>NaN</td>\n      <td>NaN</td>\n    </tr>\n    <tr>\n      <th>19</th>\n      <td>2022-02-13 19:00:00-05:00</td>\n      <td>NaN</td>\n      <td>NaN</td>\n      <td>NaN</td>\n      <td>NaN</td>\n      <td>94.540001</td>\n      <td>NaN</td>\n      <td>1859.599976</td>\n      <td>NaN</td>\n      <td>27128.310547</td>\n      <td>NaN</td>\n      <td>1.136622</td>\n      <td>0.157381</td>\n      <td>1.356337</td>\n      <td>0.008666</td>\n      <td>1.081432</td>\n    </tr>\n    <tr>\n      <th>20</th>\n      <td>2022-02-13 20:00:00-05:00</td>\n      <td>NaN</td>\n      <td>NaN</td>\n      <td>NaN</td>\n      <td>NaN</td>\n      <td>94.610001</td>\n      <td>NaN</td>\n      <td>1861.099976</td>\n      <td>NaN</td>\n      <td>26986.789062</td>\n      <td>NaN</td>\n      <td>1.135718</td>\n      <td>0.157230</td>\n      <td>1.355528</td>\n      <td>0.008671</td>\n      <td>1.081326</td>\n    </tr>\n    <tr>\n      <th>22</th>\n      <td>2022-02-13 21:00:00-05:00</td>\n      <td>NaN</td>\n      <td>NaN</td>\n      <td>NaN</td>\n      <td>NaN</td>\n      <td>94.680000</td>\n      <td>3442.088135</td>\n      <td>1856.000000</td>\n      <td>NaN</td>\n      <td>26970.339844</td>\n      <td>NaN</td>\n      <td>1.134687</td>\n      <td>0.157252</td>\n      <td>1.354224</td>\n      <td>0.008660</td>\n      <td>1.080555</td>\n    </tr>\n    <tr>\n      <th>24</th>\n      <td>2022-02-13 22:00:00-05:00</td>\n      <td>NaN</td>\n      <td>NaN</td>\n      <td>NaN</td>\n      <td>NaN</td>\n      <td>94.440002</td>\n      <td>3441.650024</td>\n      <td>1854.300049</td>\n      <td>NaN</td>\n      <td>27118.580078</td>\n      <td>NaN</td>\n      <td>1.134816</td>\n      <td>0.157250</td>\n      <td>1.353693</td>\n      <td>0.008658</td>\n      <td>1.080976</td>\n    </tr>\n  </tbody>\n</table>\n</div>"
     },
     "execution_count": 60,
     "metadata": {},
     "output_type": "execute_result"
    }
   ],
   "source": [
    "data_filled = df.fillna(method='ffill')\n",
    "\n",
    "# Display the first few rows of the dataframe to confirm changes\n",
    "data_filled.head()"
   ],
   "metadata": {
    "collapsed": false,
    "ExecuteTime": {
     "end_time": "2024-02-19T23:51:12.887821Z",
     "start_time": "2024-02-19T23:51:12.837443100Z"
    }
   },
   "id": "b4ab756f8bc5bd47",
   "execution_count": 60
  },
  {
   "cell_type": "code",
   "outputs": [
    {
     "data": {
      "text/plain": "                       Datetime        SP500         DOW30  EuroStoxx50  \\\n18    2022-02-13 18:00:00-05:00          NaN           NaN          NaN   \n19    2022-02-13 19:00:00-05:00          NaN           NaN          NaN   \n20    2022-02-13 20:00:00-05:00          NaN           NaN          NaN   \n22    2022-02-13 21:00:00-05:00          NaN           NaN          NaN   \n24    2022-02-13 22:00:00-05:00          NaN           NaN          NaN   \n...                         ...          ...           ...          ...   \n18969 2024-02-12 17:00:00-05:00  5022.459961  38785.763672  4746.350098   \n18970 2024-02-12 18:00:00-05:00  5022.459961  38785.763672  4746.350098   \n18971 2024-02-12 19:00:00-05:00  5022.459961  38785.763672  4746.350098   \n18972 2024-02-12 20:00:00-05:00  5022.459961  38785.763672  4746.350098   \n18973 2024-02-12 21:00:00-05:00  5022.459961  38785.763672  4746.350098   \n\n             NASDAQ   CrudeOil          SSE         Gold    VIX     Nikkei225  \\\n18              NaN  94.379997          NaN  1861.099976    NaN           NaN   \n19              NaN  94.540001          NaN  1859.599976    NaN  27128.310547   \n20              NaN  94.610001          NaN  1861.099976    NaN  26986.789062   \n22              NaN  94.680000  3442.088135  1856.000000    NaN  26970.339844   \n24              NaN  94.440002  3441.650024  1854.300049    NaN  27118.580078   \n...             ...        ...          ...          ...    ...           ...   \n18969  15950.163086  76.940002  2858.799683  2033.800049  13.93  36942.101562   \n18970  15950.163086  76.980003  2858.799683  2032.500000  13.93  36942.101562   \n18971  15950.163086  76.940002  2858.799683  2033.000000  13.93  37517.210938   \n18972  15950.163086  77.019997  2858.799683  2033.500000  13.93  37636.980469   \n18973  15950.163086  77.019997  2858.799683  2033.500000  13.93  37636.980469   \n\n           FTSE100    EURUSD    CNYUSD    GBPUSD    JPYUSD    CHFUSD  \n18             NaN       NaN       NaN       NaN       NaN       NaN  \n19             NaN  1.136622  0.157381  1.356337  0.008666  1.081432  \n20             NaN  1.135718  0.157230  1.355528  0.008671  1.081326  \n22             NaN  1.134687  0.157252  1.354224  0.008660  1.080555  \n24             NaN  1.134816  0.157250  1.353693  0.008658  1.080976  \n...            ...       ...       ...       ...       ...       ...  \n18969  7573.689941  1.077470  0.139036  1.262834  0.006697  1.142348  \n18970  7573.689941  1.077470  0.139036  1.262690  0.006693  1.141735  \n18971  7573.689941  1.077586  0.139036  1.262563  0.006698  1.141800  \n18972  7573.689941  1.077006  0.139036  1.262100  0.006695  1.141448  \n18973  7573.689941  1.077006  0.139036  1.262005  0.006695  1.141435  \n\n[12530 rows x 16 columns]",
      "text/html": "<div>\n<style scoped>\n    .dataframe tbody tr th:only-of-type {\n        vertical-align: middle;\n    }\n\n    .dataframe tbody tr th {\n        vertical-align: top;\n    }\n\n    .dataframe thead th {\n        text-align: right;\n    }\n</style>\n<table border=\"1\" class=\"dataframe\">\n  <thead>\n    <tr style=\"text-align: right;\">\n      <th></th>\n      <th>Datetime</th>\n      <th>SP500</th>\n      <th>DOW30</th>\n      <th>EuroStoxx50</th>\n      <th>NASDAQ</th>\n      <th>CrudeOil</th>\n      <th>SSE</th>\n      <th>Gold</th>\n      <th>VIX</th>\n      <th>Nikkei225</th>\n      <th>FTSE100</th>\n      <th>EURUSD</th>\n      <th>CNYUSD</th>\n      <th>GBPUSD</th>\n      <th>JPYUSD</th>\n      <th>CHFUSD</th>\n    </tr>\n  </thead>\n  <tbody>\n    <tr>\n      <th>18</th>\n      <td>2022-02-13 18:00:00-05:00</td>\n      <td>NaN</td>\n      <td>NaN</td>\n      <td>NaN</td>\n      <td>NaN</td>\n      <td>94.379997</td>\n      <td>NaN</td>\n      <td>1861.099976</td>\n      <td>NaN</td>\n      <td>NaN</td>\n      <td>NaN</td>\n      <td>NaN</td>\n      <td>NaN</td>\n      <td>NaN</td>\n      <td>NaN</td>\n      <td>NaN</td>\n    </tr>\n    <tr>\n      <th>19</th>\n      <td>2022-02-13 19:00:00-05:00</td>\n      <td>NaN</td>\n      <td>NaN</td>\n      <td>NaN</td>\n      <td>NaN</td>\n      <td>94.540001</td>\n      <td>NaN</td>\n      <td>1859.599976</td>\n      <td>NaN</td>\n      <td>27128.310547</td>\n      <td>NaN</td>\n      <td>1.136622</td>\n      <td>0.157381</td>\n      <td>1.356337</td>\n      <td>0.008666</td>\n      <td>1.081432</td>\n    </tr>\n    <tr>\n      <th>20</th>\n      <td>2022-02-13 20:00:00-05:00</td>\n      <td>NaN</td>\n      <td>NaN</td>\n      <td>NaN</td>\n      <td>NaN</td>\n      <td>94.610001</td>\n      <td>NaN</td>\n      <td>1861.099976</td>\n      <td>NaN</td>\n      <td>26986.789062</td>\n      <td>NaN</td>\n      <td>1.135718</td>\n      <td>0.157230</td>\n      <td>1.355528</td>\n      <td>0.008671</td>\n      <td>1.081326</td>\n    </tr>\n    <tr>\n      <th>22</th>\n      <td>2022-02-13 21:00:00-05:00</td>\n      <td>NaN</td>\n      <td>NaN</td>\n      <td>NaN</td>\n      <td>NaN</td>\n      <td>94.680000</td>\n      <td>3442.088135</td>\n      <td>1856.000000</td>\n      <td>NaN</td>\n      <td>26970.339844</td>\n      <td>NaN</td>\n      <td>1.134687</td>\n      <td>0.157252</td>\n      <td>1.354224</td>\n      <td>0.008660</td>\n      <td>1.080555</td>\n    </tr>\n    <tr>\n      <th>24</th>\n      <td>2022-02-13 22:00:00-05:00</td>\n      <td>NaN</td>\n      <td>NaN</td>\n      <td>NaN</td>\n      <td>NaN</td>\n      <td>94.440002</td>\n      <td>3441.650024</td>\n      <td>1854.300049</td>\n      <td>NaN</td>\n      <td>27118.580078</td>\n      <td>NaN</td>\n      <td>1.134816</td>\n      <td>0.157250</td>\n      <td>1.353693</td>\n      <td>0.008658</td>\n      <td>1.080976</td>\n    </tr>\n    <tr>\n      <th>...</th>\n      <td>...</td>\n      <td>...</td>\n      <td>...</td>\n      <td>...</td>\n      <td>...</td>\n      <td>...</td>\n      <td>...</td>\n      <td>...</td>\n      <td>...</td>\n      <td>...</td>\n      <td>...</td>\n      <td>...</td>\n      <td>...</td>\n      <td>...</td>\n      <td>...</td>\n      <td>...</td>\n    </tr>\n    <tr>\n      <th>18969</th>\n      <td>2024-02-12 17:00:00-05:00</td>\n      <td>5022.459961</td>\n      <td>38785.763672</td>\n      <td>4746.350098</td>\n      <td>15950.163086</td>\n      <td>76.940002</td>\n      <td>2858.799683</td>\n      <td>2033.800049</td>\n      <td>13.93</td>\n      <td>36942.101562</td>\n      <td>7573.689941</td>\n      <td>1.077470</td>\n      <td>0.139036</td>\n      <td>1.262834</td>\n      <td>0.006697</td>\n      <td>1.142348</td>\n    </tr>\n    <tr>\n      <th>18970</th>\n      <td>2024-02-12 18:00:00-05:00</td>\n      <td>5022.459961</td>\n      <td>38785.763672</td>\n      <td>4746.350098</td>\n      <td>15950.163086</td>\n      <td>76.980003</td>\n      <td>2858.799683</td>\n      <td>2032.500000</td>\n      <td>13.93</td>\n      <td>36942.101562</td>\n      <td>7573.689941</td>\n      <td>1.077470</td>\n      <td>0.139036</td>\n      <td>1.262690</td>\n      <td>0.006693</td>\n      <td>1.141735</td>\n    </tr>\n    <tr>\n      <th>18971</th>\n      <td>2024-02-12 19:00:00-05:00</td>\n      <td>5022.459961</td>\n      <td>38785.763672</td>\n      <td>4746.350098</td>\n      <td>15950.163086</td>\n      <td>76.940002</td>\n      <td>2858.799683</td>\n      <td>2033.000000</td>\n      <td>13.93</td>\n      <td>37517.210938</td>\n      <td>7573.689941</td>\n      <td>1.077586</td>\n      <td>0.139036</td>\n      <td>1.262563</td>\n      <td>0.006698</td>\n      <td>1.141800</td>\n    </tr>\n    <tr>\n      <th>18972</th>\n      <td>2024-02-12 20:00:00-05:00</td>\n      <td>5022.459961</td>\n      <td>38785.763672</td>\n      <td>4746.350098</td>\n      <td>15950.163086</td>\n      <td>77.019997</td>\n      <td>2858.799683</td>\n      <td>2033.500000</td>\n      <td>13.93</td>\n      <td>37636.980469</td>\n      <td>7573.689941</td>\n      <td>1.077006</td>\n      <td>0.139036</td>\n      <td>1.262100</td>\n      <td>0.006695</td>\n      <td>1.141448</td>\n    </tr>\n    <tr>\n      <th>18973</th>\n      <td>2024-02-12 21:00:00-05:00</td>\n      <td>5022.459961</td>\n      <td>38785.763672</td>\n      <td>4746.350098</td>\n      <td>15950.163086</td>\n      <td>77.019997</td>\n      <td>2858.799683</td>\n      <td>2033.500000</td>\n      <td>13.93</td>\n      <td>37636.980469</td>\n      <td>7573.689941</td>\n      <td>1.077006</td>\n      <td>0.139036</td>\n      <td>1.262005</td>\n      <td>0.006695</td>\n      <td>1.141435</td>\n    </tr>\n  </tbody>\n</table>\n<p>12530 rows × 16 columns</p>\n</div>"
     },
     "execution_count": 61,
     "metadata": {},
     "output_type": "execute_result"
    }
   ],
   "source": [
    "data_filled"
   ],
   "metadata": {
    "collapsed": false,
    "ExecuteTime": {
     "end_time": "2024-02-19T23:51:18.104678700Z",
     "start_time": "2024-02-19T23:51:18.071396100Z"
    }
   },
   "id": "85aad7701d1d9cbe",
   "execution_count": 61
  },
  {
   "cell_type": "code",
   "outputs": [],
   "source": [
    "df = data_filled.dropna()"
   ],
   "metadata": {
    "collapsed": false,
    "ExecuteTime": {
     "end_time": "2024-02-19T23:51:43.389222600Z",
     "start_time": "2024-02-19T23:51:43.376735200Z"
    }
   },
   "id": "7127c0505670bdf8",
   "execution_count": 62
  },
  {
   "cell_type": "code",
   "outputs": [
    {
     "data": {
      "text/plain": "                       Datetime        SP500         DOW30  EuroStoxx50  \\\n41    2022-02-14 10:00:00-05:00  4405.064941  34487.544922  4047.379883   \n43    2022-02-14 11:00:00-05:00  4414.295166  34579.794922  4057.600098   \n45    2022-02-14 12:00:00-05:00  4414.995117  34630.660156  4057.600098   \n47    2022-02-14 13:00:00-05:00  4398.870117  34520.121094  4057.600098   \n49    2022-02-14 14:00:00-05:00  4391.920166  34468.455078  4057.600098   \n...                         ...          ...           ...          ...   \n18969 2024-02-12 17:00:00-05:00  5022.459961  38785.763672  4746.350098   \n18970 2024-02-12 18:00:00-05:00  5022.459961  38785.763672  4746.350098   \n18971 2024-02-12 19:00:00-05:00  5022.459961  38785.763672  4746.350098   \n18972 2024-02-12 20:00:00-05:00  5022.459961  38785.763672  4746.350098   \n18973 2024-02-12 21:00:00-05:00  5022.459961  38785.763672  4746.350098   \n\n             NASDAQ   CrudeOil          SSE         Gold    VIX     Nikkei225  \\\n41     13863.107422  93.570000  3425.213013  1870.000000  29.43  27059.099609   \n43     13902.955078  93.559998  3425.213013  1863.400024  29.27  27059.099609   \n45     13867.772949  94.019997  3425.213013  1866.300049  28.77  27059.099609   \n47     13798.939453  95.059998  3425.213013  1873.000000  29.34  27059.099609   \n49     13775.538086  94.760002  3425.213013  1869.900024  31.27  27059.099609   \n...             ...        ...          ...          ...    ...           ...   \n18969  15950.163086  76.940002  2858.799683  2033.800049  13.93  36942.101562   \n18970  15950.163086  76.980003  2858.799683  2032.500000  13.93  36942.101562   \n18971  15950.163086  76.940002  2858.799683  2033.000000  13.93  37517.210938   \n18972  15950.163086  77.019997  2858.799683  2033.500000  13.93  37636.980469   \n18973  15950.163086  77.019997  2858.799683  2033.500000  13.93  37636.980469   \n\n           FTSE100    EURUSD    CNYUSD    GBPUSD    JPYUSD    CHFUSD  \n41     7507.370117  1.130966  0.157314  1.351205  0.008652  1.079774  \n43     7525.779785  1.130966  0.157314  1.351644  0.008641  1.079261  \n45     7525.779785  1.131350  0.157314  1.353125  0.008648  1.080520  \n47     7525.779785  1.130327  0.157314  1.352631  0.008663  1.080847  \n49     7525.779785  1.129943  0.157314  1.352357  0.008646  1.080264  \n...            ...       ...       ...       ...       ...       ...  \n18969  7573.689941  1.077470  0.139036  1.262834  0.006697  1.142348  \n18970  7573.689941  1.077470  0.139036  1.262690  0.006693  1.141735  \n18971  7573.689941  1.077586  0.139036  1.262563  0.006698  1.141800  \n18972  7573.689941  1.077006  0.139036  1.262100  0.006695  1.141448  \n18973  7573.689941  1.077006  0.139036  1.262005  0.006695  1.141435  \n\n[12514 rows x 16 columns]",
      "text/html": "<div>\n<style scoped>\n    .dataframe tbody tr th:only-of-type {\n        vertical-align: middle;\n    }\n\n    .dataframe tbody tr th {\n        vertical-align: top;\n    }\n\n    .dataframe thead th {\n        text-align: right;\n    }\n</style>\n<table border=\"1\" class=\"dataframe\">\n  <thead>\n    <tr style=\"text-align: right;\">\n      <th></th>\n      <th>Datetime</th>\n      <th>SP500</th>\n      <th>DOW30</th>\n      <th>EuroStoxx50</th>\n      <th>NASDAQ</th>\n      <th>CrudeOil</th>\n      <th>SSE</th>\n      <th>Gold</th>\n      <th>VIX</th>\n      <th>Nikkei225</th>\n      <th>FTSE100</th>\n      <th>EURUSD</th>\n      <th>CNYUSD</th>\n      <th>GBPUSD</th>\n      <th>JPYUSD</th>\n      <th>CHFUSD</th>\n    </tr>\n  </thead>\n  <tbody>\n    <tr>\n      <th>41</th>\n      <td>2022-02-14 10:00:00-05:00</td>\n      <td>4405.064941</td>\n      <td>34487.544922</td>\n      <td>4047.379883</td>\n      <td>13863.107422</td>\n      <td>93.570000</td>\n      <td>3425.213013</td>\n      <td>1870.000000</td>\n      <td>29.43</td>\n      <td>27059.099609</td>\n      <td>7507.370117</td>\n      <td>1.130966</td>\n      <td>0.157314</td>\n      <td>1.351205</td>\n      <td>0.008652</td>\n      <td>1.079774</td>\n    </tr>\n    <tr>\n      <th>43</th>\n      <td>2022-02-14 11:00:00-05:00</td>\n      <td>4414.295166</td>\n      <td>34579.794922</td>\n      <td>4057.600098</td>\n      <td>13902.955078</td>\n      <td>93.559998</td>\n      <td>3425.213013</td>\n      <td>1863.400024</td>\n      <td>29.27</td>\n      <td>27059.099609</td>\n      <td>7525.779785</td>\n      <td>1.130966</td>\n      <td>0.157314</td>\n      <td>1.351644</td>\n      <td>0.008641</td>\n      <td>1.079261</td>\n    </tr>\n    <tr>\n      <th>45</th>\n      <td>2022-02-14 12:00:00-05:00</td>\n      <td>4414.995117</td>\n      <td>34630.660156</td>\n      <td>4057.600098</td>\n      <td>13867.772949</td>\n      <td>94.019997</td>\n      <td>3425.213013</td>\n      <td>1866.300049</td>\n      <td>28.77</td>\n      <td>27059.099609</td>\n      <td>7525.779785</td>\n      <td>1.131350</td>\n      <td>0.157314</td>\n      <td>1.353125</td>\n      <td>0.008648</td>\n      <td>1.080520</td>\n    </tr>\n    <tr>\n      <th>47</th>\n      <td>2022-02-14 13:00:00-05:00</td>\n      <td>4398.870117</td>\n      <td>34520.121094</td>\n      <td>4057.600098</td>\n      <td>13798.939453</td>\n      <td>95.059998</td>\n      <td>3425.213013</td>\n      <td>1873.000000</td>\n      <td>29.34</td>\n      <td>27059.099609</td>\n      <td>7525.779785</td>\n      <td>1.130327</td>\n      <td>0.157314</td>\n      <td>1.352631</td>\n      <td>0.008663</td>\n      <td>1.080847</td>\n    </tr>\n    <tr>\n      <th>49</th>\n      <td>2022-02-14 14:00:00-05:00</td>\n      <td>4391.920166</td>\n      <td>34468.455078</td>\n      <td>4057.600098</td>\n      <td>13775.538086</td>\n      <td>94.760002</td>\n      <td>3425.213013</td>\n      <td>1869.900024</td>\n      <td>31.27</td>\n      <td>27059.099609</td>\n      <td>7525.779785</td>\n      <td>1.129943</td>\n      <td>0.157314</td>\n      <td>1.352357</td>\n      <td>0.008646</td>\n      <td>1.080264</td>\n    </tr>\n    <tr>\n      <th>...</th>\n      <td>...</td>\n      <td>...</td>\n      <td>...</td>\n      <td>...</td>\n      <td>...</td>\n      <td>...</td>\n      <td>...</td>\n      <td>...</td>\n      <td>...</td>\n      <td>...</td>\n      <td>...</td>\n      <td>...</td>\n      <td>...</td>\n      <td>...</td>\n      <td>...</td>\n      <td>...</td>\n    </tr>\n    <tr>\n      <th>18969</th>\n      <td>2024-02-12 17:00:00-05:00</td>\n      <td>5022.459961</td>\n      <td>38785.763672</td>\n      <td>4746.350098</td>\n      <td>15950.163086</td>\n      <td>76.940002</td>\n      <td>2858.799683</td>\n      <td>2033.800049</td>\n      <td>13.93</td>\n      <td>36942.101562</td>\n      <td>7573.689941</td>\n      <td>1.077470</td>\n      <td>0.139036</td>\n      <td>1.262834</td>\n      <td>0.006697</td>\n      <td>1.142348</td>\n    </tr>\n    <tr>\n      <th>18970</th>\n      <td>2024-02-12 18:00:00-05:00</td>\n      <td>5022.459961</td>\n      <td>38785.763672</td>\n      <td>4746.350098</td>\n      <td>15950.163086</td>\n      <td>76.980003</td>\n      <td>2858.799683</td>\n      <td>2032.500000</td>\n      <td>13.93</td>\n      <td>36942.101562</td>\n      <td>7573.689941</td>\n      <td>1.077470</td>\n      <td>0.139036</td>\n      <td>1.262690</td>\n      <td>0.006693</td>\n      <td>1.141735</td>\n    </tr>\n    <tr>\n      <th>18971</th>\n      <td>2024-02-12 19:00:00-05:00</td>\n      <td>5022.459961</td>\n      <td>38785.763672</td>\n      <td>4746.350098</td>\n      <td>15950.163086</td>\n      <td>76.940002</td>\n      <td>2858.799683</td>\n      <td>2033.000000</td>\n      <td>13.93</td>\n      <td>37517.210938</td>\n      <td>7573.689941</td>\n      <td>1.077586</td>\n      <td>0.139036</td>\n      <td>1.262563</td>\n      <td>0.006698</td>\n      <td>1.141800</td>\n    </tr>\n    <tr>\n      <th>18972</th>\n      <td>2024-02-12 20:00:00-05:00</td>\n      <td>5022.459961</td>\n      <td>38785.763672</td>\n      <td>4746.350098</td>\n      <td>15950.163086</td>\n      <td>77.019997</td>\n      <td>2858.799683</td>\n      <td>2033.500000</td>\n      <td>13.93</td>\n      <td>37636.980469</td>\n      <td>7573.689941</td>\n      <td>1.077006</td>\n      <td>0.139036</td>\n      <td>1.262100</td>\n      <td>0.006695</td>\n      <td>1.141448</td>\n    </tr>\n    <tr>\n      <th>18973</th>\n      <td>2024-02-12 21:00:00-05:00</td>\n      <td>5022.459961</td>\n      <td>38785.763672</td>\n      <td>4746.350098</td>\n      <td>15950.163086</td>\n      <td>77.019997</td>\n      <td>2858.799683</td>\n      <td>2033.500000</td>\n      <td>13.93</td>\n      <td>37636.980469</td>\n      <td>7573.689941</td>\n      <td>1.077006</td>\n      <td>0.139036</td>\n      <td>1.262005</td>\n      <td>0.006695</td>\n      <td>1.141435</td>\n    </tr>\n  </tbody>\n</table>\n<p>12514 rows × 16 columns</p>\n</div>"
     },
     "execution_count": 63,
     "metadata": {},
     "output_type": "execute_result"
    }
   ],
   "source": [
    "df"
   ],
   "metadata": {
    "collapsed": false,
    "ExecuteTime": {
     "end_time": "2024-02-19T23:51:51.209406600Z",
     "start_time": "2024-02-19T23:51:51.177758600Z"
    }
   },
   "id": "12a644d175c182d2",
   "execution_count": 63
  },
  {
   "cell_type": "code",
   "outputs": [],
   "source": [
    "df.to_csv(\"processed_macro_data.csv\")"
   ],
   "metadata": {
    "collapsed": false,
    "ExecuteTime": {
     "end_time": "2024-02-19T23:52:03.933531400Z",
     "start_time": "2024-02-19T23:52:03.775422Z"
    }
   },
   "id": "ec4a5f485df5b882",
   "execution_count": 64
  },
  {
   "cell_type": "code",
   "outputs": [],
   "source": [],
   "metadata": {
    "collapsed": false
   },
   "id": "aed918b7ec82ce48"
  }
 ],
 "metadata": {
  "kernelspec": {
   "display_name": "Python 3",
   "language": "python",
   "name": "python3"
  },
  "language_info": {
   "codemirror_mode": {
    "name": "ipython",
    "version": 2
   },
   "file_extension": ".py",
   "mimetype": "text/x-python",
   "name": "python",
   "nbconvert_exporter": "python",
   "pygments_lexer": "ipython2",
   "version": "2.7.6"
  }
 },
 "nbformat": 4,
 "nbformat_minor": 5
}
