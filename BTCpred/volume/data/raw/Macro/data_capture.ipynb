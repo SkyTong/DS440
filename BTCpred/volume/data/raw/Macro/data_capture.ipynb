{
 "cells": [
  {
   "cell_type": "code",
   "execution_count": 1,
   "id": "initial_id",
   "metadata": {
    "collapsed": true,
    "ExecuteTime": {
     "end_time": "2024-02-12T21:35:51.249044600Z",
     "start_time": "2024-02-12T21:35:51.229907700Z"
    }
   },
   "outputs": [],
   "source": [
    "#!pip install yfinance"
   ]
  },
  {
   "cell_type": "code",
   "outputs": [],
   "source": [
    "import yfinance as yf\n",
    "import pandas as pd\n",
    "import os"
   ],
   "metadata": {
    "collapsed": false,
    "ExecuteTime": {
     "end_time": "2024-02-12T21:53:10.065909400Z",
     "start_time": "2024-02-12T21:53:10.051393900Z"
    }
   },
   "id": "42139d54606e9485",
   "execution_count": 13
  },
  {
   "cell_type": "markdown",
   "source": [
    "### Define the Tickers and Period"
   ],
   "metadata": {
    "collapsed": false
   },
   "id": "af3228269fa0073d"
  },
  {
   "cell_type": "code",
   "outputs": [],
   "source": [
    "tickers = {\n",
    "    \"SP500\": \"^GSPC\",\n",
    "    \"DOW30\": \"^DJI\",\n",
    "    \"EuroStoxx50\": \"^STOXX50E\",\n",
    "    \"NASDAQ\": \"^IXIC\",\n",
    "    \"CrudeOil\": \"CL=F\",  # Futures contract for Crude Oil\n",
    "    \"SSE\": \"000001.SS\",  # Shanghai Composite Index\n",
    "    \"Gold\": \"GC=F\",  # Futures contract for Gold\n",
    "    \"VIX\": \"^VIX\",\n",
    "    \"Nikkei225\": \"^N225\",\n",
    "    \"FTSE100\": \"^FTSE\",\n",
    "    \"EURUSD\": \"EURUSD=X\"\n",
    "}"
   ],
   "metadata": {
    "collapsed": false,
    "ExecuteTime": {
     "end_time": "2024-02-12T21:35:52.942135200Z",
     "start_time": "2024-02-12T21:35:52.928096100Z"
    }
   },
   "id": "150addadcf93f47f",
   "execution_count": 3
  },
  {
   "cell_type": "markdown",
   "source": [
    "### Fetch the Data"
   ],
   "metadata": {
    "collapsed": false
   },
   "id": "e9f267b89b581ddc"
  },
  {
   "cell_type": "code",
   "outputs": [
    {
     "name": "stderr",
     "output_type": "stream",
     "text": [
      "[*********************100%%**********************]  1 of 1 completed\n",
      "[*********************100%%**********************]  1 of 1 completed"
     ]
    },
    {
     "name": "stdout",
     "output_type": "stream",
     "text": [
      "Downloading SP500 data...\n",
      "SP500 data saved to SP500_data.csv\n",
      "Downloading DOW30 data...\n",
      "DOW30 data saved to DOW30_data.csv\n",
      "Downloading EuroStoxx50 data...\n"
     ]
    },
    {
     "name": "stderr",
     "output_type": "stream",
     "text": [
      "\n",
      "[*********************100%%**********************]  1 of 1 completed\n",
      "[*********************100%%**********************]  1 of 1 completed\n",
      "[*********************100%%**********************]  1 of 1 completed"
     ]
    },
    {
     "name": "stdout",
     "output_type": "stream",
     "text": [
      "EuroStoxx50 data saved to EuroStoxx50_data.csv\n",
      "Downloading NASDAQ data...\n",
      "NASDAQ data saved to NASDAQ_data.csv\n",
      "Downloading CrudeOil data...\n"
     ]
    },
    {
     "name": "stderr",
     "output_type": "stream",
     "text": [
      "\n",
      "[*********************100%%**********************]  1 of 1 completed\n",
      "[*********************100%%**********************]  1 of 1 completed"
     ]
    },
    {
     "name": "stdout",
     "output_type": "stream",
     "text": [
      "CrudeOil data saved to CrudeOil_data.csv\n",
      "Downloading SSE data...\n",
      "SSE data saved to SSE_data.csv\n",
      "Downloading Gold data...\n",
      "Gold data saved to Gold_data.csv\n",
      "Downloading VIX data...\n"
     ]
    },
    {
     "name": "stderr",
     "output_type": "stream",
     "text": [
      "\n",
      "[*********************100%%**********************]  1 of 1 completed\n",
      "[*********************100%%**********************]  1 of 1 completed\n",
      "[*********************100%%**********************]  1 of 1 completed\n"
     ]
    },
    {
     "name": "stdout",
     "output_type": "stream",
     "text": [
      "VIX data saved to VIX_data.csv\n",
      "Downloading Nikkei225 data...\n",
      "Nikkei225 data saved to Nikkei225_data.csv\n",
      "Downloading FTSE100 data...\n",
      "FTSE100 data saved to FTSE100_data.csv\n",
      "Downloading EURUSD data...\n"
     ]
    },
    {
     "name": "stderr",
     "output_type": "stream",
     "text": [
      "[*********************100%%**********************]  1 of 1 completed\n"
     ]
    },
    {
     "name": "stdout",
     "output_type": "stream",
     "text": [
      "EURUSD data saved to EURUSD_data.csv\n"
     ]
    }
   ],
   "source": [
    "for name, ticker in tickers.items():\n",
    "    print(f\"Downloading {name} data...\")\n",
    "    data = yf.download(ticker, period=\"2y\", interval=\"1h\")\n",
    "    filename = f\"{name}_data.csv\"\n",
    "    data.to_csv(filename)\n",
    "    print(f\"{name} data saved to {filename}\")\n"
   ],
   "metadata": {
    "collapsed": false,
    "ExecuteTime": {
     "end_time": "2024-02-12T21:36:19.446731Z",
     "start_time": "2024-02-12T21:36:18.435914600Z"
    }
   },
   "id": "1898bc6f8fec826f",
   "execution_count": 5
  },
  {
   "cell_type": "code",
   "outputs": [
    {
     "name": "stdout",
     "output_type": "stream",
     "text": [
      "SP500 dataset contains 3495 rows.\n",
      "DOW30 dataset contains 3495 rows.\n",
      "EuroStoxx50 dataset contains 4536 rows.\n",
      "NASDAQ dataset contains 3495 rows.\n",
      "CrudeOil dataset contains 11162 rows.\n",
      "SSE dataset contains 2946 rows.\n",
      "Gold dataset contains 11497 rows.\n",
      "VIX dataset contains 6822 rows.\n",
      "Nikkei225 dataset contains 2940 rows.\n",
      "FTSE100 dataset contains 4500 rows.\n",
      "EURUSD dataset contains 12364 rows.\n"
     ]
    }
   ],
   "source": [
    "# List of dataset names as defined in the previous step\n",
    "datasets = [\n",
    "    \"SP500\",\n",
    "    \"DOW30\",\n",
    "    \"EuroStoxx50\",\n",
    "    \"NASDAQ\",\n",
    "    \"CrudeOil\",\n",
    "    \"SSE\",\n",
    "    \"Gold\",\n",
    "    \"VIX\",\n",
    "    \"Nikkei225\",\n",
    "    \"FTSE100\",\n",
    "    \"EURUSD\"\n",
    "]\n",
    "\n",
    "for name in datasets:\n",
    "    filename = f\"{name}_data.csv\"\n",
    "    try:\n",
    "        data = pd.read_csv(filename)\n",
    "        print(f\"{name} dataset contains {len(data)} rows.\")\n",
    "    except FileNotFoundError:\n",
    "        print(f\"File {filename} not found. Please ensure the data is downloaded and saved correctly.\")"
   ],
   "metadata": {
    "collapsed": false,
    "ExecuteTime": {
     "end_time": "2024-02-12T21:36:25.891128200Z",
     "start_time": "2024-02-12T21:36:25.743891Z"
    }
   },
   "id": "501254c5d994b169",
   "execution_count": 6
  },
  {
   "cell_type": "code",
   "outputs": [],
   "source": [],
   "metadata": {
    "collapsed": false,
    "ExecuteTime": {
     "end_time": "2024-02-12T21:36:40.188962700Z",
     "start_time": "2024-02-12T21:36:40.178291Z"
    }
   },
   "id": "c55221a9eeb96bac",
   "execution_count": 6
  },
  {
   "cell_type": "markdown",
   "source": [
    "### Process the Data"
   ],
   "metadata": {
    "collapsed": false
   },
   "id": "eaee0b894780b99"
  },
  {
   "cell_type": "code",
   "outputs": [],
   "source": [
    "datasets = [\n",
    "    \"SP500\",\n",
    "    \"DOW30\",\n",
    "    \"EuroStoxx50\",\n",
    "    \"NASDAQ\",\n",
    "    \"CrudeOil\",\n",
    "    \"SSE\",\n",
    "    \"Gold\",\n",
    "    \"VIX\",\n",
    "    \"Nikkei225\",\n",
    "    \"FTSE100\",\n",
    "    \"EURUSD\"\n",
    "]\n",
    "\n",
    "dataframes = []  # List to store each dataframe\n",
    "\n",
    "for name in datasets:\n",
    "    filename = f\"{name}_data.csv\"\n",
    "    try:\n",
    "        # Load the dataset\n",
    "        df = pd.read_csv(filename, index_col='Datetime', parse_dates=True)\n",
    "        # Keep only the 'Close' column and rename it to the dataset name\n",
    "        df = df[['Close']].rename(columns={'Close': name})\n",
    "        dataframes.append(df)\n",
    "    except FileNotFoundError:\n",
    "        print(f\"File {filename} not found. Please ensure the data is downloaded and saved correctly.\")"
   ],
   "metadata": {
    "collapsed": false,
    "ExecuteTime": {
     "end_time": "2024-02-12T21:36:41.994091700Z",
     "start_time": "2024-02-12T21:36:41.268625900Z"
    }
   },
   "id": "2afc6d4342050cac",
   "execution_count": 7
  },
  {
   "cell_type": "code",
   "outputs": [],
   "source": [
    "# Use the functools.reduce function to iteratively merge dataframes on the index\n",
    "from functools import reduce\n",
    "\n",
    "# Merge all dataframes on the datetime index\n",
    "merged_df = reduce(lambda left, right: pd.merge(left, right, left_index=True, right_index=True, how='outer'), dataframes)\n",
    "\n",
    "# Sort the dataframe by datetime index just in case\n",
    "merged_df.sort_index(inplace=True)"
   ],
   "metadata": {
    "collapsed": false,
    "ExecuteTime": {
     "end_time": "2024-02-12T21:36:43.462392500Z",
     "start_time": "2024-02-12T21:36:43.384440100Z"
    }
   },
   "id": "c8488a1ac4a2853e",
   "execution_count": 8
  },
  {
   "cell_type": "code",
   "outputs": [],
   "source": [],
   "metadata": {
    "collapsed": false,
    "ExecuteTime": {
     "end_time": "2024-02-12T21:36:44.336464200Z",
     "start_time": "2024-02-12T21:36:44.319430100Z"
    }
   },
   "id": "29626aaf2218f3ed",
   "execution_count": 8
  },
  {
   "cell_type": "markdown",
   "source": [
    "### Save or Use the Data"
   ],
   "metadata": {
    "collapsed": false
   },
   "id": "1f9eecb6db4938f6"
  },
  {
   "cell_type": "code",
   "outputs": [],
   "source": [
    "merged_df.to_csv('raw_data.csv')"
   ],
   "metadata": {
    "collapsed": false,
    "ExecuteTime": {
     "end_time": "2024-02-12T21:36:51.883010100Z",
     "start_time": "2024-02-12T21:36:51.776163600Z"
    }
   },
   "id": "2bfabd1987279e27",
   "execution_count": 9
  },
  {
   "cell_type": "code",
   "outputs": [],
   "source": [],
   "metadata": {
    "collapsed": false,
    "ExecuteTime": {
     "end_time": "2024-02-06T05:50:00.310772600Z",
     "start_time": "2024-02-06T05:50:00.295992800Z"
    }
   },
   "id": "93a99e7ad92169f3",
   "execution_count": 35
  },
  {
   "cell_type": "markdown",
   "source": [
    "### Automating(incomplete)"
   ],
   "metadata": {
    "collapsed": false
   },
   "id": "ff9d4d1d40c4e3f9"
  },
  {
   "cell_type": "code",
   "outputs": [
    {
     "ename": "NameError",
     "evalue": "name 'all_data' is not defined",
     "output_type": "error",
     "traceback": [
      "\u001B[1;31m---------------------------------------------------------------------------\u001B[0m",
      "\u001B[1;31mNameError\u001B[0m                                 Traceback (most recent call last)",
      "Cell \u001B[1;32mIn[14], line 16\u001B[0m\n\u001B[0;32m     13\u001B[0m file_name \u001B[38;5;241m=\u001B[39m \u001B[38;5;124m'\u001B[39m\u001B[38;5;124mBTC_USD_hourly_volume.csv\u001B[39m\u001B[38;5;124m'\u001B[39m\n\u001B[0;32m     15\u001B[0m \u001B[38;5;66;03m# Save data to CSV\u001B[39;00m\n\u001B[1;32m---> 16\u001B[0m save_to_csv(\u001B[43mall_data\u001B[49m, folder_path, file_name)\n\u001B[0;32m     18\u001B[0m \u001B[38;5;28mprint\u001B[39m(\u001B[38;5;124mf\u001B[39m\u001B[38;5;124m\"\u001B[39m\u001B[38;5;124mData saved to \u001B[39m\u001B[38;5;132;01m{\u001B[39;00mfolder_path\u001B[38;5;132;01m}\u001B[39;00m\u001B[38;5;124m/\u001B[39m\u001B[38;5;132;01m{\u001B[39;00mfile_name\u001B[38;5;132;01m}\u001B[39;00m\u001B[38;5;124m\"\u001B[39m)\n",
      "\u001B[1;31mNameError\u001B[0m: name 'all_data' is not defined"
     ]
    }
   ],
   "source": [
    "import schedule\n",
    "import time\n",
    "\n",
    "def fetch_data():\n",
    "    # Include the steps to fetch data here (Steps 3-6)\n",
    "    print(\"Fetching data...\")\n",
    "\n",
    "# Schedule the task\n",
    "schedule.every().day.at(\"09:00\").do(fetch_data)  # Example: every day at 9:00 AM\n",
    "\n",
    "# Run the scheduler\n",
    "while True:\n",
    "    schedule.run_pending()\n",
    "    time.sleep(1)"
   ],
   "metadata": {
    "collapsed": false,
    "ExecuteTime": {
     "end_time": "2024-02-12T21:53:36.208940100Z",
     "start_time": "2024-02-12T21:53:36.187911400Z"
    }
   },
   "id": "dab9870b8060e9df",
   "execution_count": 14
  }
 ],
 "metadata": {
  "kernelspec": {
   "display_name": "Python 3",
   "language": "python",
   "name": "python3"
  },
  "language_info": {
   "codemirror_mode": {
    "name": "ipython",
    "version": 2
   },
   "file_extension": ".py",
   "mimetype": "text/x-python",
   "name": "python",
   "nbconvert_exporter": "python",
   "pygments_lexer": "ipython2",
   "version": "2.7.6"
  }
 },
 "nbformat": 4,
 "nbformat_minor": 5
}
