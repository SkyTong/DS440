{
 "cells": [
  {
   "cell_type": "code",
   "outputs": [
    {
     "name": "stdout",
     "output_type": "stream",
     "text": [
      "Requirement already satisfied: pandas in e:\\ds440proj\\btcpred\\.venv\\lib\\site-packages (2.2.0)\n",
      "Requirement already satisfied: numpy<2,>=1.22.4 in e:\\ds440proj\\btcpred\\.venv\\lib\\site-packages (from pandas) (1.26.3)\n",
      "Requirement already satisfied: python-dateutil>=2.8.2 in e:\\ds440proj\\btcpred\\.venv\\lib\\site-packages (from pandas) (2.8.2)\n",
      "Requirement already satisfied: pytz>=2020.1 in e:\\ds440proj\\btcpred\\.venv\\lib\\site-packages (from pandas) (2024.1)\n",
      "Requirement already satisfied: tzdata>=2022.7 in e:\\ds440proj\\btcpred\\.venv\\lib\\site-packages (from pandas) (2023.4)\n",
      "Requirement already satisfied: six>=1.5 in e:\\ds440proj\\btcpred\\.venv\\lib\\site-packages (from python-dateutil>=2.8.2->pandas) (1.16.0)\n"
     ]
    },
    {
     "name": "stderr",
     "output_type": "stream",
     "text": [
      "\n",
      "[notice] A new release of pip is available: 23.2.1 -> 24.0\n",
      "[notice] To update, run: python.exe -m pip install --upgrade pip\n"
     ]
    }
   ],
   "source": [
    "!pip install pandas"
   ],
   "metadata": {
    "collapsed": false,
    "ExecuteTime": {
     "end_time": "2024-02-26T23:18:37.493695Z",
     "start_time": "2024-02-26T23:18:36.517246Z"
    }
   },
   "id": "91b6662ff774368e",
   "execution_count": 35
  },
  {
   "cell_type": "code",
   "execution_count": 36,
   "id": "initial_id",
   "metadata": {
    "collapsed": true,
    "ExecuteTime": {
     "end_time": "2024-02-26T23:18:37.509064Z",
     "start_time": "2024-02-26T23:18:37.494877Z"
    }
   },
   "outputs": [],
   "source": [
    "import pandas as pd\n",
    "import os"
   ]
  },
  {
   "cell_type": "code",
   "outputs": [
    {
     "name": "stdout",
     "output_type": "stream",
     "text": [
      "                    Datetime  SP500  DOW30  EuroStoxx50  NASDAQ   CrudeOil  \\\n",
      "0  2022-02-27 18:00:00-05:00    NaN    NaN          NaN     NaN  96.760002   \n",
      "1  2022-02-27 19:00:00-05:00    NaN    NaN          NaN     NaN  96.580002   \n",
      "2  2022-02-27 20:00:00-05:00    NaN    NaN          NaN     NaN  96.470001   \n",
      "3  2022-02-28 09:30:00+08:00    NaN    NaN          NaN     NaN        NaN   \n",
      "4  2022-02-27 21:00:00-05:00    NaN    NaN          NaN     NaN  96.120003   \n",
      "\n",
      "           SSE         Gold  VIX     Nikkei225  FTSE100    EURUSD    CNYUSD  \\\n",
      "0          NaN  1912.500000  NaN           NaN      NaN       NaN       NaN   \n",
      "1          NaN  1919.900024  NaN  26395.560547      NaN  1.118443  0.158306   \n",
      "2          NaN  1915.400024  NaN  26420.269531      NaN  1.117818  0.158341   \n",
      "3  3445.742432          NaN  NaN           NaN      NaN       NaN       NaN   \n",
      "4          NaN  1911.599976  NaN  26393.419922      NaN  1.116071  0.158411   \n",
      "\n",
      "     GBPUSD    JPYUSD    CHFUSD  \n",
      "0       NaN       NaN       NaN  \n",
      "1  1.336863  0.008652  1.079436  \n",
      "2  1.336041  0.008657  1.078981  \n",
      "3       NaN       NaN       NaN  \n",
      "4  1.335738  0.008659  1.079063  \n"
     ]
    }
   ],
   "source": [
    "# Define the path to the CSV file\n",
    "csv_file_path = r'E:\\DS440proj\\BTCpred\\volume\\data\\raw\\Macro\\raw_data.csv'\n",
    "\n",
    "# Read the CSV file\n",
    "df = pd.read_csv(csv_file_path)\n",
    "\n",
    "# Display the first few rows of the dataframe\n",
    "print(df.head())"
   ],
   "metadata": {
    "collapsed": false,
    "ExecuteTime": {
     "end_time": "2024-02-26T23:18:37.539805Z",
     "start_time": "2024-02-26T23:18:37.510564Z"
    }
   },
   "id": "378819d0105cfdaa",
   "execution_count": 37
  },
  {
   "cell_type": "code",
   "outputs": [],
   "source": [
    "def fill_single_interval_missings(dataframe, columns):\n",
    "    for column in columns:\n",
    "        # Loop through each row except the first and last\n",
    "        for i in range(1, len(dataframe) - 1):\n",
    "            # Check if the current value is NaN and neighbors are not\n",
    "            if pd.isna(dataframe.at[dataframe.index[i], column]) and \\\n",
    "               not pd.isna(dataframe.at[dataframe.index[i - 1], column]) and \\\n",
    "               not pd.isna(dataframe.at[dataframe.index[i + 1], column]):\n",
    "                # Calculate the midpoint of its neighbors\n",
    "                midpoint = (dataframe.at[dataframe.index[i - 1], column] + dataframe.at[dataframe.index[i + 1], column]) / 2\n",
    "                # Replace the NaN with the midpoint\n",
    "                dataframe.at[dataframe.index[i], column] = midpoint\n",
    "    return dataframe\n",
    "\n",
    "# Replace single-interval missing values for specified columns\n",
    "df = fill_single_interval_missings(df, ['SP500', 'DOW30', 'NASDAQ','SSE'])\n"
   ],
   "metadata": {
    "collapsed": false,
    "ExecuteTime": {
     "end_time": "2024-02-26T23:18:38.140112Z",
     "start_time": "2024-02-26T23:18:37.541813Z"
    }
   },
   "id": "97998f0778fd5329",
   "execution_count": 38
  },
  {
   "cell_type": "code",
   "outputs": [
    {
     "data": {
      "text/plain": "                        Datetime        SP500         DOW30  EuroStoxx50  \\\n0      2022-02-27 18:00:00-05:00          NaN           NaN          NaN   \n1      2022-02-27 19:00:00-05:00          NaN           NaN          NaN   \n2      2022-02-27 20:00:00-05:00          NaN           NaN          NaN   \n3      2022-02-28 09:30:00+08:00          NaN           NaN          NaN   \n4      2022-02-27 21:00:00-05:00          NaN           NaN          NaN   \n...                          ...          ...           ...          ...   \n18924  2024-02-26 15:00:00-05:00  5073.949951  39093.189453          NaN   \n18925  2024-02-26 15:30:00-05:00  5069.529785  39069.230469          NaN   \n18926  2024-02-26 16:00:00-05:00          NaN           NaN          NaN   \n18927  2024-02-26 22:00:00+00:00          NaN           NaN          NaN   \n18928  2024-02-26 18:00:00-05:00          NaN           NaN          NaN   \n\n             NASDAQ   CrudeOil          SSE         Gold    VIX     Nikkei225  \\\n0               NaN  96.760002          NaN  1912.500000    NaN           NaN   \n1               NaN  96.580002          NaN  1919.900024    NaN  26395.560547   \n2               NaN  96.470001          NaN  1915.400024    NaN  26420.269531   \n3               NaN        NaN  3445.742432          NaN    NaN           NaN   \n4               NaN  96.120003  3446.172607  1911.599976    NaN  26393.419922   \n...             ...        ...          ...          ...    ...           ...   \n18924  15988.945801  77.570000          NaN  2042.099976  13.73           NaN   \n18925  15976.250977        NaN          NaN          NaN    NaN           NaN   \n18926           NaN  77.599998          NaN  2040.900024  13.74           NaN   \n18927           NaN        NaN          NaN          NaN    NaN           NaN   \n18928           NaN  77.580002          NaN  2040.599976    NaN           NaN   \n\n       FTSE100    EURUSD    CNYUSD    GBPUSD    JPYUSD    CHFUSD  \n0          NaN       NaN       NaN       NaN       NaN       NaN  \n1          NaN  1.118443  0.158306  1.336863  0.008652  1.079436  \n2          NaN  1.117818  0.158341  1.336041  0.008657  1.078981  \n3          NaN       NaN       NaN       NaN       NaN       NaN  \n4          NaN  1.116071  0.158411  1.335738  0.008659  1.079063  \n...        ...       ...       ...       ...       ...       ...  \n18924      NaN  1.085423  0.138955  1.268553  0.006637  1.136260  \n18925      NaN       NaN       NaN       NaN       NaN       NaN  \n18926      NaN  1.085423  0.138955  1.268601  0.006636  1.136441  \n18927      NaN  1.085305  0.138955  1.268376  0.006638  1.136699  \n18928      NaN  1.085187       NaN  1.268134  0.006636  1.136273  \n\n[18929 rows x 16 columns]",
      "text/html": "<div>\n<style scoped>\n    .dataframe tbody tr th:only-of-type {\n        vertical-align: middle;\n    }\n\n    .dataframe tbody tr th {\n        vertical-align: top;\n    }\n\n    .dataframe thead th {\n        text-align: right;\n    }\n</style>\n<table border=\"1\" class=\"dataframe\">\n  <thead>\n    <tr style=\"text-align: right;\">\n      <th></th>\n      <th>Datetime</th>\n      <th>SP500</th>\n      <th>DOW30</th>\n      <th>EuroStoxx50</th>\n      <th>NASDAQ</th>\n      <th>CrudeOil</th>\n      <th>SSE</th>\n      <th>Gold</th>\n      <th>VIX</th>\n      <th>Nikkei225</th>\n      <th>FTSE100</th>\n      <th>EURUSD</th>\n      <th>CNYUSD</th>\n      <th>GBPUSD</th>\n      <th>JPYUSD</th>\n      <th>CHFUSD</th>\n    </tr>\n  </thead>\n  <tbody>\n    <tr>\n      <th>0</th>\n      <td>2022-02-27 18:00:00-05:00</td>\n      <td>NaN</td>\n      <td>NaN</td>\n      <td>NaN</td>\n      <td>NaN</td>\n      <td>96.760002</td>\n      <td>NaN</td>\n      <td>1912.500000</td>\n      <td>NaN</td>\n      <td>NaN</td>\n      <td>NaN</td>\n      <td>NaN</td>\n      <td>NaN</td>\n      <td>NaN</td>\n      <td>NaN</td>\n      <td>NaN</td>\n    </tr>\n    <tr>\n      <th>1</th>\n      <td>2022-02-27 19:00:00-05:00</td>\n      <td>NaN</td>\n      <td>NaN</td>\n      <td>NaN</td>\n      <td>NaN</td>\n      <td>96.580002</td>\n      <td>NaN</td>\n      <td>1919.900024</td>\n      <td>NaN</td>\n      <td>26395.560547</td>\n      <td>NaN</td>\n      <td>1.118443</td>\n      <td>0.158306</td>\n      <td>1.336863</td>\n      <td>0.008652</td>\n      <td>1.079436</td>\n    </tr>\n    <tr>\n      <th>2</th>\n      <td>2022-02-27 20:00:00-05:00</td>\n      <td>NaN</td>\n      <td>NaN</td>\n      <td>NaN</td>\n      <td>NaN</td>\n      <td>96.470001</td>\n      <td>NaN</td>\n      <td>1915.400024</td>\n      <td>NaN</td>\n      <td>26420.269531</td>\n      <td>NaN</td>\n      <td>1.117818</td>\n      <td>0.158341</td>\n      <td>1.336041</td>\n      <td>0.008657</td>\n      <td>1.078981</td>\n    </tr>\n    <tr>\n      <th>3</th>\n      <td>2022-02-28 09:30:00+08:00</td>\n      <td>NaN</td>\n      <td>NaN</td>\n      <td>NaN</td>\n      <td>NaN</td>\n      <td>NaN</td>\n      <td>3445.742432</td>\n      <td>NaN</td>\n      <td>NaN</td>\n      <td>NaN</td>\n      <td>NaN</td>\n      <td>NaN</td>\n      <td>NaN</td>\n      <td>NaN</td>\n      <td>NaN</td>\n      <td>NaN</td>\n    </tr>\n    <tr>\n      <th>4</th>\n      <td>2022-02-27 21:00:00-05:00</td>\n      <td>NaN</td>\n      <td>NaN</td>\n      <td>NaN</td>\n      <td>NaN</td>\n      <td>96.120003</td>\n      <td>3446.172607</td>\n      <td>1911.599976</td>\n      <td>NaN</td>\n      <td>26393.419922</td>\n      <td>NaN</td>\n      <td>1.116071</td>\n      <td>0.158411</td>\n      <td>1.335738</td>\n      <td>0.008659</td>\n      <td>1.079063</td>\n    </tr>\n    <tr>\n      <th>...</th>\n      <td>...</td>\n      <td>...</td>\n      <td>...</td>\n      <td>...</td>\n      <td>...</td>\n      <td>...</td>\n      <td>...</td>\n      <td>...</td>\n      <td>...</td>\n      <td>...</td>\n      <td>...</td>\n      <td>...</td>\n      <td>...</td>\n      <td>...</td>\n      <td>...</td>\n      <td>...</td>\n    </tr>\n    <tr>\n      <th>18924</th>\n      <td>2024-02-26 15:00:00-05:00</td>\n      <td>5073.949951</td>\n      <td>39093.189453</td>\n      <td>NaN</td>\n      <td>15988.945801</td>\n      <td>77.570000</td>\n      <td>NaN</td>\n      <td>2042.099976</td>\n      <td>13.73</td>\n      <td>NaN</td>\n      <td>NaN</td>\n      <td>1.085423</td>\n      <td>0.138955</td>\n      <td>1.268553</td>\n      <td>0.006637</td>\n      <td>1.136260</td>\n    </tr>\n    <tr>\n      <th>18925</th>\n      <td>2024-02-26 15:30:00-05:00</td>\n      <td>5069.529785</td>\n      <td>39069.230469</td>\n      <td>NaN</td>\n      <td>15976.250977</td>\n      <td>NaN</td>\n      <td>NaN</td>\n      <td>NaN</td>\n      <td>NaN</td>\n      <td>NaN</td>\n      <td>NaN</td>\n      <td>NaN</td>\n      <td>NaN</td>\n      <td>NaN</td>\n      <td>NaN</td>\n      <td>NaN</td>\n    </tr>\n    <tr>\n      <th>18926</th>\n      <td>2024-02-26 16:00:00-05:00</td>\n      <td>NaN</td>\n      <td>NaN</td>\n      <td>NaN</td>\n      <td>NaN</td>\n      <td>77.599998</td>\n      <td>NaN</td>\n      <td>2040.900024</td>\n      <td>13.74</td>\n      <td>NaN</td>\n      <td>NaN</td>\n      <td>1.085423</td>\n      <td>0.138955</td>\n      <td>1.268601</td>\n      <td>0.006636</td>\n      <td>1.136441</td>\n    </tr>\n    <tr>\n      <th>18927</th>\n      <td>2024-02-26 22:00:00+00:00</td>\n      <td>NaN</td>\n      <td>NaN</td>\n      <td>NaN</td>\n      <td>NaN</td>\n      <td>NaN</td>\n      <td>NaN</td>\n      <td>NaN</td>\n      <td>NaN</td>\n      <td>NaN</td>\n      <td>NaN</td>\n      <td>1.085305</td>\n      <td>0.138955</td>\n      <td>1.268376</td>\n      <td>0.006638</td>\n      <td>1.136699</td>\n    </tr>\n    <tr>\n      <th>18928</th>\n      <td>2024-02-26 18:00:00-05:00</td>\n      <td>NaN</td>\n      <td>NaN</td>\n      <td>NaN</td>\n      <td>NaN</td>\n      <td>77.580002</td>\n      <td>NaN</td>\n      <td>2040.599976</td>\n      <td>NaN</td>\n      <td>NaN</td>\n      <td>NaN</td>\n      <td>1.085187</td>\n      <td>NaN</td>\n      <td>1.268134</td>\n      <td>0.006636</td>\n      <td>1.136273</td>\n    </tr>\n  </tbody>\n</table>\n<p>18929 rows × 16 columns</p>\n</div>"
     },
     "execution_count": 39,
     "metadata": {},
     "output_type": "execute_result"
    }
   ],
   "source": [
    "df"
   ],
   "metadata": {
    "collapsed": false,
    "ExecuteTime": {
     "end_time": "2024-02-26T23:18:38.155438Z",
     "start_time": "2024-02-26T23:18:38.141573Z"
    }
   },
   "id": "cb5c183b71951012",
   "execution_count": 39
  },
  {
   "cell_type": "code",
   "outputs": [],
   "source": [],
   "metadata": {
    "collapsed": false,
    "ExecuteTime": {
     "end_time": "2024-02-26T23:18:38.170760Z",
     "start_time": "2024-02-26T23:18:38.156387Z"
    }
   },
   "id": "98ab67b2fd79efe2",
   "execution_count": 39
  },
  {
   "cell_type": "code",
   "outputs": [],
   "source": [],
   "metadata": {
    "collapsed": false,
    "ExecuteTime": {
     "end_time": "2024-02-26T23:18:38.186329Z",
     "start_time": "2024-02-26T23:18:38.171739Z"
    }
   },
   "id": "b5da8918cb25c901",
   "execution_count": 39
  },
  {
   "cell_type": "code",
   "outputs": [
    {
     "data": {
      "text/plain": "                   Datetime  SP500  DOW30  EuroStoxx50  NASDAQ   CrudeOil  \\\n0 2022-02-27 18:00:00-05:00    NaN    NaN          NaN     NaN  96.760002   \n1 2022-02-27 19:00:00-05:00    NaN    NaN          NaN     NaN  96.580002   \n2 2022-02-27 20:00:00-05:00    NaN    NaN          NaN     NaN  96.470001   \n4 2022-02-27 21:00:00-05:00    NaN    NaN          NaN     NaN  96.120003   \n6 2022-02-27 22:00:00-05:00    NaN    NaN          NaN     NaN  96.739998   \n\n           SSE         Gold  VIX     Nikkei225  FTSE100    EURUSD    CNYUSD  \\\n0          NaN  1912.500000  NaN           NaN      NaN       NaN       NaN   \n1          NaN  1919.900024  NaN  26395.560547      NaN  1.118443  0.158306   \n2          NaN  1915.400024  NaN  26420.269531      NaN  1.117818  0.158341   \n4  3446.172607  1911.599976  NaN  26393.419922      NaN  1.116071  0.158411   \n6  3446.522949  1909.699951  NaN  26347.970703      NaN  1.115449  0.158541   \n\n     GBPUSD    JPYUSD    CHFUSD  \n0       NaN       NaN       NaN  \n1  1.336863  0.008652  1.079436  \n2  1.336041  0.008657  1.078981  \n4  1.335738  0.008659  1.079063  \n6  1.334793  0.008657  1.078737  ",
      "text/html": "<div>\n<style scoped>\n    .dataframe tbody tr th:only-of-type {\n        vertical-align: middle;\n    }\n\n    .dataframe tbody tr th {\n        vertical-align: top;\n    }\n\n    .dataframe thead th {\n        text-align: right;\n    }\n</style>\n<table border=\"1\" class=\"dataframe\">\n  <thead>\n    <tr style=\"text-align: right;\">\n      <th></th>\n      <th>Datetime</th>\n      <th>SP500</th>\n      <th>DOW30</th>\n      <th>EuroStoxx50</th>\n      <th>NASDAQ</th>\n      <th>CrudeOil</th>\n      <th>SSE</th>\n      <th>Gold</th>\n      <th>VIX</th>\n      <th>Nikkei225</th>\n      <th>FTSE100</th>\n      <th>EURUSD</th>\n      <th>CNYUSD</th>\n      <th>GBPUSD</th>\n      <th>JPYUSD</th>\n      <th>CHFUSD</th>\n    </tr>\n  </thead>\n  <tbody>\n    <tr>\n      <th>0</th>\n      <td>2022-02-27 18:00:00-05:00</td>\n      <td>NaN</td>\n      <td>NaN</td>\n      <td>NaN</td>\n      <td>NaN</td>\n      <td>96.760002</td>\n      <td>NaN</td>\n      <td>1912.500000</td>\n      <td>NaN</td>\n      <td>NaN</td>\n      <td>NaN</td>\n      <td>NaN</td>\n      <td>NaN</td>\n      <td>NaN</td>\n      <td>NaN</td>\n      <td>NaN</td>\n    </tr>\n    <tr>\n      <th>1</th>\n      <td>2022-02-27 19:00:00-05:00</td>\n      <td>NaN</td>\n      <td>NaN</td>\n      <td>NaN</td>\n      <td>NaN</td>\n      <td>96.580002</td>\n      <td>NaN</td>\n      <td>1919.900024</td>\n      <td>NaN</td>\n      <td>26395.560547</td>\n      <td>NaN</td>\n      <td>1.118443</td>\n      <td>0.158306</td>\n      <td>1.336863</td>\n      <td>0.008652</td>\n      <td>1.079436</td>\n    </tr>\n    <tr>\n      <th>2</th>\n      <td>2022-02-27 20:00:00-05:00</td>\n      <td>NaN</td>\n      <td>NaN</td>\n      <td>NaN</td>\n      <td>NaN</td>\n      <td>96.470001</td>\n      <td>NaN</td>\n      <td>1915.400024</td>\n      <td>NaN</td>\n      <td>26420.269531</td>\n      <td>NaN</td>\n      <td>1.117818</td>\n      <td>0.158341</td>\n      <td>1.336041</td>\n      <td>0.008657</td>\n      <td>1.078981</td>\n    </tr>\n    <tr>\n      <th>4</th>\n      <td>2022-02-27 21:00:00-05:00</td>\n      <td>NaN</td>\n      <td>NaN</td>\n      <td>NaN</td>\n      <td>NaN</td>\n      <td>96.120003</td>\n      <td>3446.172607</td>\n      <td>1911.599976</td>\n      <td>NaN</td>\n      <td>26393.419922</td>\n      <td>NaN</td>\n      <td>1.116071</td>\n      <td>0.158411</td>\n      <td>1.335738</td>\n      <td>0.008659</td>\n      <td>1.079063</td>\n    </tr>\n    <tr>\n      <th>6</th>\n      <td>2022-02-27 22:00:00-05:00</td>\n      <td>NaN</td>\n      <td>NaN</td>\n      <td>NaN</td>\n      <td>NaN</td>\n      <td>96.739998</td>\n      <td>3446.522949</td>\n      <td>1909.699951</td>\n      <td>NaN</td>\n      <td>26347.970703</td>\n      <td>NaN</td>\n      <td>1.115449</td>\n      <td>0.158541</td>\n      <td>1.334793</td>\n      <td>0.008657</td>\n      <td>1.078737</td>\n    </tr>\n  </tbody>\n</table>\n</div>"
     },
     "execution_count": 40,
     "metadata": {},
     "output_type": "execute_result"
    }
   ],
   "source": [
    "from pytz import timezone\n",
    "\n",
    "# Convert 'Datetime' to datetime object and set timezone to UTC since original times are in +08:00\n",
    "df['Datetime'] = pd.to_datetime(df['Datetime'], utc=True)\n",
    "\n",
    "# Convert 'Datetime' from UTC to Eastern Time (considering Eastern Standard Time without daylight saving)\n",
    "df['Datetime'] = df['Datetime'].dt.tz_convert('EST')\n",
    "\n",
    "# Remove rows with half-hour times\n",
    "df = df[~df['Datetime'].dt.minute.isin([30])]\n",
    "\n",
    "# Display the first few rows of the modified dataframe\n",
    "df.head()"
   ],
   "metadata": {
    "collapsed": false,
    "ExecuteTime": {
     "end_time": "2024-02-26T23:18:38.263040Z",
     "start_time": "2024-02-26T23:18:38.188199Z"
    }
   },
   "id": "a4c67b1f7b7d4214",
   "execution_count": 40
  },
  {
   "cell_type": "code",
   "outputs": [
    {
     "name": "stderr",
     "output_type": "stream",
     "text": [
      "C:\\Users\\13275\\AppData\\Local\\Temp\\ipykernel_59004\\1185419078.py:1: FutureWarning: DataFrame.fillna with 'method' is deprecated and will raise in a future version. Use obj.ffill() or obj.bfill() instead.\n",
      "  data_filled = df.fillna(method='ffill')\n"
     ]
    },
    {
     "data": {
      "text/plain": "                   Datetime  SP500  DOW30  EuroStoxx50  NASDAQ   CrudeOil  \\\n0 2022-02-27 18:00:00-05:00    NaN    NaN          NaN     NaN  96.760002   \n1 2022-02-27 19:00:00-05:00    NaN    NaN          NaN     NaN  96.580002   \n2 2022-02-27 20:00:00-05:00    NaN    NaN          NaN     NaN  96.470001   \n4 2022-02-27 21:00:00-05:00    NaN    NaN          NaN     NaN  96.120003   \n6 2022-02-27 22:00:00-05:00    NaN    NaN          NaN     NaN  96.739998   \n\n           SSE         Gold  VIX     Nikkei225  FTSE100    EURUSD    CNYUSD  \\\n0          NaN  1912.500000  NaN           NaN      NaN       NaN       NaN   \n1          NaN  1919.900024  NaN  26395.560547      NaN  1.118443  0.158306   \n2          NaN  1915.400024  NaN  26420.269531      NaN  1.117818  0.158341   \n4  3446.172607  1911.599976  NaN  26393.419922      NaN  1.116071  0.158411   \n6  3446.522949  1909.699951  NaN  26347.970703      NaN  1.115449  0.158541   \n\n     GBPUSD    JPYUSD    CHFUSD  \n0       NaN       NaN       NaN  \n1  1.336863  0.008652  1.079436  \n2  1.336041  0.008657  1.078981  \n4  1.335738  0.008659  1.079063  \n6  1.334793  0.008657  1.078737  ",
      "text/html": "<div>\n<style scoped>\n    .dataframe tbody tr th:only-of-type {\n        vertical-align: middle;\n    }\n\n    .dataframe tbody tr th {\n        vertical-align: top;\n    }\n\n    .dataframe thead th {\n        text-align: right;\n    }\n</style>\n<table border=\"1\" class=\"dataframe\">\n  <thead>\n    <tr style=\"text-align: right;\">\n      <th></th>\n      <th>Datetime</th>\n      <th>SP500</th>\n      <th>DOW30</th>\n      <th>EuroStoxx50</th>\n      <th>NASDAQ</th>\n      <th>CrudeOil</th>\n      <th>SSE</th>\n      <th>Gold</th>\n      <th>VIX</th>\n      <th>Nikkei225</th>\n      <th>FTSE100</th>\n      <th>EURUSD</th>\n      <th>CNYUSD</th>\n      <th>GBPUSD</th>\n      <th>JPYUSD</th>\n      <th>CHFUSD</th>\n    </tr>\n  </thead>\n  <tbody>\n    <tr>\n      <th>0</th>\n      <td>2022-02-27 18:00:00-05:00</td>\n      <td>NaN</td>\n      <td>NaN</td>\n      <td>NaN</td>\n      <td>NaN</td>\n      <td>96.760002</td>\n      <td>NaN</td>\n      <td>1912.500000</td>\n      <td>NaN</td>\n      <td>NaN</td>\n      <td>NaN</td>\n      <td>NaN</td>\n      <td>NaN</td>\n      <td>NaN</td>\n      <td>NaN</td>\n      <td>NaN</td>\n    </tr>\n    <tr>\n      <th>1</th>\n      <td>2022-02-27 19:00:00-05:00</td>\n      <td>NaN</td>\n      <td>NaN</td>\n      <td>NaN</td>\n      <td>NaN</td>\n      <td>96.580002</td>\n      <td>NaN</td>\n      <td>1919.900024</td>\n      <td>NaN</td>\n      <td>26395.560547</td>\n      <td>NaN</td>\n      <td>1.118443</td>\n      <td>0.158306</td>\n      <td>1.336863</td>\n      <td>0.008652</td>\n      <td>1.079436</td>\n    </tr>\n    <tr>\n      <th>2</th>\n      <td>2022-02-27 20:00:00-05:00</td>\n      <td>NaN</td>\n      <td>NaN</td>\n      <td>NaN</td>\n      <td>NaN</td>\n      <td>96.470001</td>\n      <td>NaN</td>\n      <td>1915.400024</td>\n      <td>NaN</td>\n      <td>26420.269531</td>\n      <td>NaN</td>\n      <td>1.117818</td>\n      <td>0.158341</td>\n      <td>1.336041</td>\n      <td>0.008657</td>\n      <td>1.078981</td>\n    </tr>\n    <tr>\n      <th>4</th>\n      <td>2022-02-27 21:00:00-05:00</td>\n      <td>NaN</td>\n      <td>NaN</td>\n      <td>NaN</td>\n      <td>NaN</td>\n      <td>96.120003</td>\n      <td>3446.172607</td>\n      <td>1911.599976</td>\n      <td>NaN</td>\n      <td>26393.419922</td>\n      <td>NaN</td>\n      <td>1.116071</td>\n      <td>0.158411</td>\n      <td>1.335738</td>\n      <td>0.008659</td>\n      <td>1.079063</td>\n    </tr>\n    <tr>\n      <th>6</th>\n      <td>2022-02-27 22:00:00-05:00</td>\n      <td>NaN</td>\n      <td>NaN</td>\n      <td>NaN</td>\n      <td>NaN</td>\n      <td>96.739998</td>\n      <td>3446.522949</td>\n      <td>1909.699951</td>\n      <td>NaN</td>\n      <td>26347.970703</td>\n      <td>NaN</td>\n      <td>1.115449</td>\n      <td>0.158541</td>\n      <td>1.334793</td>\n      <td>0.008657</td>\n      <td>1.078737</td>\n    </tr>\n  </tbody>\n</table>\n</div>"
     },
     "execution_count": 41,
     "metadata": {},
     "output_type": "execute_result"
    }
   ],
   "source": [
    "data_filled = df.fillna(method='ffill')\n",
    "\n",
    "# Display the first few rows of the dataframe to confirm changes\n",
    "data_filled.head()"
   ],
   "metadata": {
    "collapsed": false,
    "ExecuteTime": {
     "end_time": "2024-02-26T23:18:38.278653Z",
     "start_time": "2024-02-26T23:18:38.264525Z"
    }
   },
   "id": "b4ab756f8bc5bd47",
   "execution_count": 41
  },
  {
   "cell_type": "code",
   "outputs": [
    {
     "data": {
      "text/plain": "                       Datetime        SP500         DOW30  EuroStoxx50  \\\n0     2022-02-27 18:00:00-05:00          NaN           NaN          NaN   \n1     2022-02-27 19:00:00-05:00          NaN           NaN          NaN   \n2     2022-02-27 20:00:00-05:00          NaN           NaN          NaN   \n4     2022-02-27 21:00:00-05:00          NaN           NaN          NaN   \n6     2022-02-27 22:00:00-05:00          NaN           NaN          NaN   \n...                         ...          ...           ...          ...   \n18922 2024-02-26 14:00:00-05:00  5079.910156  39118.304688  4864.290039   \n18924 2024-02-26 15:00:00-05:00  5073.949951  39093.189453  4864.290039   \n18926 2024-02-26 16:00:00-05:00  5073.949951  39093.189453  4864.290039   \n18927 2024-02-26 17:00:00-05:00  5073.949951  39093.189453  4864.290039   \n18928 2024-02-26 18:00:00-05:00  5073.949951  39093.189453  4864.290039   \n\n             NASDAQ   CrudeOil          SSE         Gold    VIX     Nikkei225  \\\n0               NaN  96.760002          NaN  1912.500000    NaN           NaN   \n1               NaN  96.580002          NaN  1919.900024    NaN  26395.560547   \n2               NaN  96.470001          NaN  1915.400024    NaN  26420.269531   \n4               NaN  96.120003  3446.172607  1911.599976    NaN  26393.419922   \n6               NaN  96.739998  3446.522949  1909.699951    NaN  26347.970703   \n...             ...        ...          ...          ...    ...           ...   \n18922  16011.191895  77.709999  2975.510132  2039.599976  13.77  39198.460938   \n18924  15988.945801  77.570000  2975.510132  2042.099976  13.73  39198.460938   \n18926  15988.945801  77.599998  2975.510132  2040.900024  13.74  39198.460938   \n18927  15988.945801  77.599998  2975.510132  2040.900024  13.74  39198.460938   \n18928  15988.945801  77.580002  2975.510132  2040.599976  13.74  39198.460938   \n\n           FTSE100    EURUSD    CNYUSD    GBPUSD    JPYUSD    CHFUSD  \n0              NaN       NaN       NaN       NaN       NaN       NaN  \n1              NaN  1.118443  0.158306  1.336863  0.008652  1.079436  \n2              NaN  1.117818  0.158341  1.336041  0.008657  1.078981  \n4              NaN  1.116071  0.158411  1.335738  0.008659  1.079063  \n6              NaN  1.115449  0.158541  1.334793  0.008657  1.078737  \n...            ...       ...       ...       ...       ...       ...  \n18922  7684.299805  1.084952  0.138955  1.267813  0.006633  1.135241  \n18924  7684.299805  1.085423  0.138955  1.268553  0.006637  1.136260  \n18926  7684.299805  1.085423  0.138955  1.268601  0.006636  1.136441  \n18927  7684.299805  1.085305  0.138955  1.268376  0.006638  1.136699  \n18928  7684.299805  1.085187  0.138955  1.268134  0.006636  1.136273  \n\n[12527 rows x 16 columns]",
      "text/html": "<div>\n<style scoped>\n    .dataframe tbody tr th:only-of-type {\n        vertical-align: middle;\n    }\n\n    .dataframe tbody tr th {\n        vertical-align: top;\n    }\n\n    .dataframe thead th {\n        text-align: right;\n    }\n</style>\n<table border=\"1\" class=\"dataframe\">\n  <thead>\n    <tr style=\"text-align: right;\">\n      <th></th>\n      <th>Datetime</th>\n      <th>SP500</th>\n      <th>DOW30</th>\n      <th>EuroStoxx50</th>\n      <th>NASDAQ</th>\n      <th>CrudeOil</th>\n      <th>SSE</th>\n      <th>Gold</th>\n      <th>VIX</th>\n      <th>Nikkei225</th>\n      <th>FTSE100</th>\n      <th>EURUSD</th>\n      <th>CNYUSD</th>\n      <th>GBPUSD</th>\n      <th>JPYUSD</th>\n      <th>CHFUSD</th>\n    </tr>\n  </thead>\n  <tbody>\n    <tr>\n      <th>0</th>\n      <td>2022-02-27 18:00:00-05:00</td>\n      <td>NaN</td>\n      <td>NaN</td>\n      <td>NaN</td>\n      <td>NaN</td>\n      <td>96.760002</td>\n      <td>NaN</td>\n      <td>1912.500000</td>\n      <td>NaN</td>\n      <td>NaN</td>\n      <td>NaN</td>\n      <td>NaN</td>\n      <td>NaN</td>\n      <td>NaN</td>\n      <td>NaN</td>\n      <td>NaN</td>\n    </tr>\n    <tr>\n      <th>1</th>\n      <td>2022-02-27 19:00:00-05:00</td>\n      <td>NaN</td>\n      <td>NaN</td>\n      <td>NaN</td>\n      <td>NaN</td>\n      <td>96.580002</td>\n      <td>NaN</td>\n      <td>1919.900024</td>\n      <td>NaN</td>\n      <td>26395.560547</td>\n      <td>NaN</td>\n      <td>1.118443</td>\n      <td>0.158306</td>\n      <td>1.336863</td>\n      <td>0.008652</td>\n      <td>1.079436</td>\n    </tr>\n    <tr>\n      <th>2</th>\n      <td>2022-02-27 20:00:00-05:00</td>\n      <td>NaN</td>\n      <td>NaN</td>\n      <td>NaN</td>\n      <td>NaN</td>\n      <td>96.470001</td>\n      <td>NaN</td>\n      <td>1915.400024</td>\n      <td>NaN</td>\n      <td>26420.269531</td>\n      <td>NaN</td>\n      <td>1.117818</td>\n      <td>0.158341</td>\n      <td>1.336041</td>\n      <td>0.008657</td>\n      <td>1.078981</td>\n    </tr>\n    <tr>\n      <th>4</th>\n      <td>2022-02-27 21:00:00-05:00</td>\n      <td>NaN</td>\n      <td>NaN</td>\n      <td>NaN</td>\n      <td>NaN</td>\n      <td>96.120003</td>\n      <td>3446.172607</td>\n      <td>1911.599976</td>\n      <td>NaN</td>\n      <td>26393.419922</td>\n      <td>NaN</td>\n      <td>1.116071</td>\n      <td>0.158411</td>\n      <td>1.335738</td>\n      <td>0.008659</td>\n      <td>1.079063</td>\n    </tr>\n    <tr>\n      <th>6</th>\n      <td>2022-02-27 22:00:00-05:00</td>\n      <td>NaN</td>\n      <td>NaN</td>\n      <td>NaN</td>\n      <td>NaN</td>\n      <td>96.739998</td>\n      <td>3446.522949</td>\n      <td>1909.699951</td>\n      <td>NaN</td>\n      <td>26347.970703</td>\n      <td>NaN</td>\n      <td>1.115449</td>\n      <td>0.158541</td>\n      <td>1.334793</td>\n      <td>0.008657</td>\n      <td>1.078737</td>\n    </tr>\n    <tr>\n      <th>...</th>\n      <td>...</td>\n      <td>...</td>\n      <td>...</td>\n      <td>...</td>\n      <td>...</td>\n      <td>...</td>\n      <td>...</td>\n      <td>...</td>\n      <td>...</td>\n      <td>...</td>\n      <td>...</td>\n      <td>...</td>\n      <td>...</td>\n      <td>...</td>\n      <td>...</td>\n      <td>...</td>\n    </tr>\n    <tr>\n      <th>18922</th>\n      <td>2024-02-26 14:00:00-05:00</td>\n      <td>5079.910156</td>\n      <td>39118.304688</td>\n      <td>4864.290039</td>\n      <td>16011.191895</td>\n      <td>77.709999</td>\n      <td>2975.510132</td>\n      <td>2039.599976</td>\n      <td>13.77</td>\n      <td>39198.460938</td>\n      <td>7684.299805</td>\n      <td>1.084952</td>\n      <td>0.138955</td>\n      <td>1.267813</td>\n      <td>0.006633</td>\n      <td>1.135241</td>\n    </tr>\n    <tr>\n      <th>18924</th>\n      <td>2024-02-26 15:00:00-05:00</td>\n      <td>5073.949951</td>\n      <td>39093.189453</td>\n      <td>4864.290039</td>\n      <td>15988.945801</td>\n      <td>77.570000</td>\n      <td>2975.510132</td>\n      <td>2042.099976</td>\n      <td>13.73</td>\n      <td>39198.460938</td>\n      <td>7684.299805</td>\n      <td>1.085423</td>\n      <td>0.138955</td>\n      <td>1.268553</td>\n      <td>0.006637</td>\n      <td>1.136260</td>\n    </tr>\n    <tr>\n      <th>18926</th>\n      <td>2024-02-26 16:00:00-05:00</td>\n      <td>5073.949951</td>\n      <td>39093.189453</td>\n      <td>4864.290039</td>\n      <td>15988.945801</td>\n      <td>77.599998</td>\n      <td>2975.510132</td>\n      <td>2040.900024</td>\n      <td>13.74</td>\n      <td>39198.460938</td>\n      <td>7684.299805</td>\n      <td>1.085423</td>\n      <td>0.138955</td>\n      <td>1.268601</td>\n      <td>0.006636</td>\n      <td>1.136441</td>\n    </tr>\n    <tr>\n      <th>18927</th>\n      <td>2024-02-26 17:00:00-05:00</td>\n      <td>5073.949951</td>\n      <td>39093.189453</td>\n      <td>4864.290039</td>\n      <td>15988.945801</td>\n      <td>77.599998</td>\n      <td>2975.510132</td>\n      <td>2040.900024</td>\n      <td>13.74</td>\n      <td>39198.460938</td>\n      <td>7684.299805</td>\n      <td>1.085305</td>\n      <td>0.138955</td>\n      <td>1.268376</td>\n      <td>0.006638</td>\n      <td>1.136699</td>\n    </tr>\n    <tr>\n      <th>18928</th>\n      <td>2024-02-26 18:00:00-05:00</td>\n      <td>5073.949951</td>\n      <td>39093.189453</td>\n      <td>4864.290039</td>\n      <td>15988.945801</td>\n      <td>77.580002</td>\n      <td>2975.510132</td>\n      <td>2040.599976</td>\n      <td>13.74</td>\n      <td>39198.460938</td>\n      <td>7684.299805</td>\n      <td>1.085187</td>\n      <td>0.138955</td>\n      <td>1.268134</td>\n      <td>0.006636</td>\n      <td>1.136273</td>\n    </tr>\n  </tbody>\n</table>\n<p>12527 rows × 16 columns</p>\n</div>"
     },
     "execution_count": 42,
     "metadata": {},
     "output_type": "execute_result"
    }
   ],
   "source": [
    "data_filled"
   ],
   "metadata": {
    "collapsed": false,
    "ExecuteTime": {
     "end_time": "2024-02-26T23:18:38.294153Z",
     "start_time": "2024-02-26T23:18:38.280653Z"
    }
   },
   "id": "85aad7701d1d9cbe",
   "execution_count": 42
  },
  {
   "cell_type": "code",
   "outputs": [],
   "source": [
    "df = data_filled.dropna()"
   ],
   "metadata": {
    "collapsed": false,
    "ExecuteTime": {
     "end_time": "2024-02-26T23:18:38.309652Z",
     "start_time": "2024-02-26T23:18:38.295652Z"
    }
   },
   "id": "7127c0505670bdf8",
   "execution_count": 43
  },
  {
   "cell_type": "code",
   "outputs": [
    {
     "data": {
      "text/plain": "                       Datetime        SP500         DOW30  EuroStoxx50  \\\n23    2022-02-28 10:00:00-05:00  4360.924805  33767.826172  3915.540039   \n25    2022-02-28 11:00:00-05:00  4369.179932  33849.894531  3933.479980   \n27    2022-02-28 12:00:00-05:00  4349.699951  33720.744141  3933.479980   \n29    2022-02-28 13:00:00-05:00  4332.359863  33589.654297  3933.479980   \n31    2022-02-28 14:00:00-05:00  4331.229980  33588.664062  3933.479980   \n...                         ...          ...           ...          ...   \n18922 2024-02-26 14:00:00-05:00  5079.910156  39118.304688  4864.290039   \n18924 2024-02-26 15:00:00-05:00  5073.949951  39093.189453  4864.290039   \n18926 2024-02-26 16:00:00-05:00  5073.949951  39093.189453  4864.290039   \n18927 2024-02-26 17:00:00-05:00  5073.949951  39093.189453  4864.290039   \n18928 2024-02-26 18:00:00-05:00  5073.949951  39093.189453  4864.290039   \n\n             NASDAQ   CrudeOil          SSE         Gold        VIX  \\\n23     13709.718262  95.510002  3457.902100  1910.400024  30.559999   \n25     13734.242676  95.440002  3457.902100  1894.500000  28.690001   \n27     13666.251465  96.209999  3457.902100  1900.900024  30.639999   \n29     13607.824707  96.459999  3457.902100  1900.699951  30.820000   \n31     13605.203125  95.680000  3457.902100  1908.300049  31.920000   \n...             ...        ...          ...          ...        ...   \n18922  16011.191895  77.709999  2975.510132  2039.599976  13.770000   \n18924  15988.945801  77.570000  2975.510132  2042.099976  13.730000   \n18926  15988.945801  77.599998  2975.510132  2040.900024  13.740000   \n18927  15988.945801  77.599998  2975.510132  2040.900024  13.740000   \n18928  15988.945801  77.580002  2975.510132  2040.599976  13.740000   \n\n          Nikkei225      FTSE100    EURUSD    CNYUSD    GBPUSD    JPYUSD  \\\n23     26522.330078  7435.509766  1.123469  0.158519  1.341814  0.008683   \n25     26522.330078  7465.209961  1.122460  0.158519  1.341832  0.008687   \n27     26522.330078  7465.209961  1.120699  0.158519  1.339011  0.008687   \n29     26522.330078  7465.209961  1.121579  0.158519  1.341058  0.008699   \n31     26522.330078  7465.209961  1.122586  0.158519  1.341886  0.008706   \n...             ...          ...       ...       ...       ...       ...   \n18922  39198.460938  7684.299805  1.084952  0.138955  1.267813  0.006633   \n18924  39198.460938  7684.299805  1.085423  0.138955  1.268553  0.006637   \n18926  39198.460938  7684.299805  1.085423  0.138955  1.268601  0.006636   \n18927  39198.460938  7684.299805  1.085305  0.138955  1.268376  0.006638   \n18928  39198.460938  7684.299805  1.085187  0.138955  1.268134  0.006636   \n\n         CHFUSD  \n23     1.089978  \n25     1.089514  \n27     1.088459  \n29     1.090215  \n31     1.091227  \n...         ...  \n18922  1.135241  \n18924  1.136260  \n18926  1.136441  \n18927  1.136699  \n18928  1.136273  \n\n[12511 rows x 16 columns]",
      "text/html": "<div>\n<style scoped>\n    .dataframe tbody tr th:only-of-type {\n        vertical-align: middle;\n    }\n\n    .dataframe tbody tr th {\n        vertical-align: top;\n    }\n\n    .dataframe thead th {\n        text-align: right;\n    }\n</style>\n<table border=\"1\" class=\"dataframe\">\n  <thead>\n    <tr style=\"text-align: right;\">\n      <th></th>\n      <th>Datetime</th>\n      <th>SP500</th>\n      <th>DOW30</th>\n      <th>EuroStoxx50</th>\n      <th>NASDAQ</th>\n      <th>CrudeOil</th>\n      <th>SSE</th>\n      <th>Gold</th>\n      <th>VIX</th>\n      <th>Nikkei225</th>\n      <th>FTSE100</th>\n      <th>EURUSD</th>\n      <th>CNYUSD</th>\n      <th>GBPUSD</th>\n      <th>JPYUSD</th>\n      <th>CHFUSD</th>\n    </tr>\n  </thead>\n  <tbody>\n    <tr>\n      <th>23</th>\n      <td>2022-02-28 10:00:00-05:00</td>\n      <td>4360.924805</td>\n      <td>33767.826172</td>\n      <td>3915.540039</td>\n      <td>13709.718262</td>\n      <td>95.510002</td>\n      <td>3457.902100</td>\n      <td>1910.400024</td>\n      <td>30.559999</td>\n      <td>26522.330078</td>\n      <td>7435.509766</td>\n      <td>1.123469</td>\n      <td>0.158519</td>\n      <td>1.341814</td>\n      <td>0.008683</td>\n      <td>1.089978</td>\n    </tr>\n    <tr>\n      <th>25</th>\n      <td>2022-02-28 11:00:00-05:00</td>\n      <td>4369.179932</td>\n      <td>33849.894531</td>\n      <td>3933.479980</td>\n      <td>13734.242676</td>\n      <td>95.440002</td>\n      <td>3457.902100</td>\n      <td>1894.500000</td>\n      <td>28.690001</td>\n      <td>26522.330078</td>\n      <td>7465.209961</td>\n      <td>1.122460</td>\n      <td>0.158519</td>\n      <td>1.341832</td>\n      <td>0.008687</td>\n      <td>1.089514</td>\n    </tr>\n    <tr>\n      <th>27</th>\n      <td>2022-02-28 12:00:00-05:00</td>\n      <td>4349.699951</td>\n      <td>33720.744141</td>\n      <td>3933.479980</td>\n      <td>13666.251465</td>\n      <td>96.209999</td>\n      <td>3457.902100</td>\n      <td>1900.900024</td>\n      <td>30.639999</td>\n      <td>26522.330078</td>\n      <td>7465.209961</td>\n      <td>1.120699</td>\n      <td>0.158519</td>\n      <td>1.339011</td>\n      <td>0.008687</td>\n      <td>1.088459</td>\n    </tr>\n    <tr>\n      <th>29</th>\n      <td>2022-02-28 13:00:00-05:00</td>\n      <td>4332.359863</td>\n      <td>33589.654297</td>\n      <td>3933.479980</td>\n      <td>13607.824707</td>\n      <td>96.459999</td>\n      <td>3457.902100</td>\n      <td>1900.699951</td>\n      <td>30.820000</td>\n      <td>26522.330078</td>\n      <td>7465.209961</td>\n      <td>1.121579</td>\n      <td>0.158519</td>\n      <td>1.341058</td>\n      <td>0.008699</td>\n      <td>1.090215</td>\n    </tr>\n    <tr>\n      <th>31</th>\n      <td>2022-02-28 14:00:00-05:00</td>\n      <td>4331.229980</td>\n      <td>33588.664062</td>\n      <td>3933.479980</td>\n      <td>13605.203125</td>\n      <td>95.680000</td>\n      <td>3457.902100</td>\n      <td>1908.300049</td>\n      <td>31.920000</td>\n      <td>26522.330078</td>\n      <td>7465.209961</td>\n      <td>1.122586</td>\n      <td>0.158519</td>\n      <td>1.341886</td>\n      <td>0.008706</td>\n      <td>1.091227</td>\n    </tr>\n    <tr>\n      <th>...</th>\n      <td>...</td>\n      <td>...</td>\n      <td>...</td>\n      <td>...</td>\n      <td>...</td>\n      <td>...</td>\n      <td>...</td>\n      <td>...</td>\n      <td>...</td>\n      <td>...</td>\n      <td>...</td>\n      <td>...</td>\n      <td>...</td>\n      <td>...</td>\n      <td>...</td>\n      <td>...</td>\n    </tr>\n    <tr>\n      <th>18922</th>\n      <td>2024-02-26 14:00:00-05:00</td>\n      <td>5079.910156</td>\n      <td>39118.304688</td>\n      <td>4864.290039</td>\n      <td>16011.191895</td>\n      <td>77.709999</td>\n      <td>2975.510132</td>\n      <td>2039.599976</td>\n      <td>13.770000</td>\n      <td>39198.460938</td>\n      <td>7684.299805</td>\n      <td>1.084952</td>\n      <td>0.138955</td>\n      <td>1.267813</td>\n      <td>0.006633</td>\n      <td>1.135241</td>\n    </tr>\n    <tr>\n      <th>18924</th>\n      <td>2024-02-26 15:00:00-05:00</td>\n      <td>5073.949951</td>\n      <td>39093.189453</td>\n      <td>4864.290039</td>\n      <td>15988.945801</td>\n      <td>77.570000</td>\n      <td>2975.510132</td>\n      <td>2042.099976</td>\n      <td>13.730000</td>\n      <td>39198.460938</td>\n      <td>7684.299805</td>\n      <td>1.085423</td>\n      <td>0.138955</td>\n      <td>1.268553</td>\n      <td>0.006637</td>\n      <td>1.136260</td>\n    </tr>\n    <tr>\n      <th>18926</th>\n      <td>2024-02-26 16:00:00-05:00</td>\n      <td>5073.949951</td>\n      <td>39093.189453</td>\n      <td>4864.290039</td>\n      <td>15988.945801</td>\n      <td>77.599998</td>\n      <td>2975.510132</td>\n      <td>2040.900024</td>\n      <td>13.740000</td>\n      <td>39198.460938</td>\n      <td>7684.299805</td>\n      <td>1.085423</td>\n      <td>0.138955</td>\n      <td>1.268601</td>\n      <td>0.006636</td>\n      <td>1.136441</td>\n    </tr>\n    <tr>\n      <th>18927</th>\n      <td>2024-02-26 17:00:00-05:00</td>\n      <td>5073.949951</td>\n      <td>39093.189453</td>\n      <td>4864.290039</td>\n      <td>15988.945801</td>\n      <td>77.599998</td>\n      <td>2975.510132</td>\n      <td>2040.900024</td>\n      <td>13.740000</td>\n      <td>39198.460938</td>\n      <td>7684.299805</td>\n      <td>1.085305</td>\n      <td>0.138955</td>\n      <td>1.268376</td>\n      <td>0.006638</td>\n      <td>1.136699</td>\n    </tr>\n    <tr>\n      <th>18928</th>\n      <td>2024-02-26 18:00:00-05:00</td>\n      <td>5073.949951</td>\n      <td>39093.189453</td>\n      <td>4864.290039</td>\n      <td>15988.945801</td>\n      <td>77.580002</td>\n      <td>2975.510132</td>\n      <td>2040.599976</td>\n      <td>13.740000</td>\n      <td>39198.460938</td>\n      <td>7684.299805</td>\n      <td>1.085187</td>\n      <td>0.138955</td>\n      <td>1.268134</td>\n      <td>0.006636</td>\n      <td>1.136273</td>\n    </tr>\n  </tbody>\n</table>\n<p>12511 rows × 16 columns</p>\n</div>"
     },
     "execution_count": 44,
     "metadata": {},
     "output_type": "execute_result"
    }
   ],
   "source": [
    "df"
   ],
   "metadata": {
    "collapsed": false,
    "ExecuteTime": {
     "end_time": "2024-02-26T23:18:38.325156Z",
     "start_time": "2024-02-26T23:18:38.311153Z"
    }
   },
   "id": "12a644d175c182d2",
   "execution_count": 44
  },
  {
   "cell_type": "code",
   "outputs": [],
   "source": [
    "df.to_csv(\"processed_macro_data.csv\")"
   ],
   "metadata": {
    "collapsed": false,
    "ExecuteTime": {
     "end_time": "2024-02-26T23:18:38.479174Z",
     "start_time": "2024-02-26T23:18:38.326656Z"
    }
   },
   "id": "ec4a5f485df5b882",
   "execution_count": 45
  },
  {
   "cell_type": "code",
   "outputs": [],
   "source": [
    "import pandas as pd\n",
    "\n",
    "# Load the first CSV\n",
    "df1 = pd.read_csv('processed_macro_data.csv', parse_dates=['Datetime'])\n",
    "\n",
    "# Load the second CSV\n",
    "df2 = pd.read_csv('merged_volume_data.csv', parse_dates=['time'])\n",
    "df2.rename(columns={'time': 'Datetime'}, inplace=True)\n",
    "# Convert the timezone-naive column in df2 to timezone-aware, matching df1's timezone\n",
    "df2['Datetime'] = df2['Datetime'].dt.tz_localize('UTC-05:00')\n",
    "\n",
    "# Now you can merge as before\n",
    "merged_df = pd.merge(df, df2, on='Datetime', how='outer')\n",
    "merged_df.sort_values(by='Datetime', inplace=True)"
   ],
   "metadata": {
    "collapsed": false,
    "ExecuteTime": {
     "end_time": "2024-02-26T23:18:38.633164Z",
     "start_time": "2024-02-26T23:18:38.480173Z"
    }
   },
   "id": "aed918b7ec82ce48",
   "execution_count": 46
  },
  {
   "cell_type": "code",
   "outputs": [],
   "source": [
    "merged_df = merged_df.dropna()\n",
    "merged_df.to_csv('processed_hourly_data.csv')"
   ],
   "metadata": {
    "collapsed": false,
    "ExecuteTime": {
     "end_time": "2024-02-26T23:18:38.864240Z",
     "start_time": "2024-02-26T23:18:38.634164Z"
    }
   },
   "id": "f3444d6fa508f853",
   "execution_count": 47
  },
  {
   "cell_type": "code",
   "outputs": [
    {
     "data": {
      "text/plain": "                       Datetime        SP500         DOW30  EuroStoxx50  \\\n667   2022-02-28 10:00:00-05:00  4360.924805  33767.826172  3915.540039   \n668   2022-02-28 11:00:00-05:00  4369.179932  33849.894531  3933.479980   \n669   2022-02-28 12:00:00-05:00  4349.699951  33720.744141  3933.479980   \n670   2022-02-28 13:00:00-05:00  4332.359863  33589.654297  3933.479980   \n671   2022-02-28 14:00:00-05:00  4331.229980  33588.664062  3933.479980   \n...                         ...          ...           ...          ...   \n18064 2024-02-20 11:00:00-05:00  4969.645020  38550.503906  4763.259766   \n18065 2024-02-20 12:00:00-05:00  4961.074951  38504.060547  4763.259766   \n18066 2024-02-20 13:00:00-05:00  4965.669922  38540.031250  4763.259766   \n18067 2024-02-20 14:00:00-05:00  4973.215088  38575.441406  4763.259766   \n18068 2024-02-20 15:00:00-05:00  4976.480225  38583.605469  4763.259766   \n\n             NASDAQ   CrudeOil          SSE         Gold        VIX  \\\n667    13709.718262  95.510002  3457.902100  1910.400024  30.559999   \n668    13734.242676  95.440002  3457.902100  1894.500000  28.690001   \n669    13666.251465  96.209999  3457.902100  1900.900024  30.639999   \n670    13607.824707  96.459999  3457.902100  1900.699951  30.820000   \n671    13605.203125  95.680000  3457.902100  1908.300049  31.920000   \n...             ...        ...          ...          ...        ...   \n18064  15567.405273  78.860001  2920.561279  2038.500000  15.580000   \n18065  15532.355957  79.169998  2920.561279  2040.000000  15.640000   \n18066  15555.064941  79.230003  2920.561279  2038.599976  15.500000   \n18067  15592.756348  78.269997  2920.561279  2036.500000  15.330000   \n18068  15624.660156  78.269997  2920.561279  2035.800049  15.310000   \n\n          Nikkei225  ...  total_volume_quote  total_volume_base  \\\n667    26522.330078  ...        4.074564e+08       8.501518e+09   \n668    26522.330078  ...        2.951618e+08       7.640820e+09   \n669    26522.330078  ...        2.022620e+08       6.928419e+09   \n670    26522.330078  ...        1.731512e+08       6.676633e+09   \n671    26522.330078  ...        1.655895e+08       5.810772e+09   \n...             ...  ...                 ...                ...   \n18064  38409.390625  ...        1.727552e+09       1.730651e+09   \n18065  38409.390625  ...        3.983693e+08       3.721585e+09   \n18066  38409.390625  ...        1.272772e+08       1.996156e+09   \n18067  38409.390625  ...        2.904525e+08       2.182250e+09   \n18068  38409.390625  ...        5.113036e+07       4.407568e+08   \n\n       total_volume_total     volume      high       low      open     close  \\\n667          8.908974e+09  100298.59  40917.71  39652.14  39849.29  40845.79   \n668          7.935982e+09   71235.25  41338.07  40736.36  40845.79  41021.81   \n669          7.130681e+09   40264.68  41320.14  40768.17  41021.81  41319.61   \n670          6.849784e+09   34319.26  41427.99  41082.37  41319.61  41217.44   \n671          5.976362e+09   28324.04  41377.67  41057.84  41217.44  41357.77   \n...                   ...        ...       ...       ...       ...       ...   \n18064        3.458204e+09   33578.32  51795.47  51369.97  51693.91  51396.39   \n18065        4.119954e+09   44409.48  51397.71  50766.77  51396.39  51321.90   \n18066        2.123433e+09   22321.76  51536.57  51236.14  51321.90  51504.22   \n18067        2.472703e+09   28053.63  52111.16  51439.74  51504.22  52095.65   \n18068        4.918871e+08   13645.87  52222.07  51950.84  52095.65  52167.67   \n\n       volumefrom      volumeto  \n667       7495.87  3.026021e+08  \n668       5232.77  2.148198e+08  \n669       2842.60  1.165622e+08  \n670       2455.10  1.013162e+08  \n671       2007.00  8.271987e+07  \n...           ...           ...  \n18064     1748.02  9.020375e+07  \n18065     3702.71  1.892794e+08  \n18066     1518.03  7.796947e+07  \n18067     1791.37  9.274488e+07  \n18068     2529.55  1.317853e+08  \n\n[12447 rows x 32 columns]",
      "text/html": "<div>\n<style scoped>\n    .dataframe tbody tr th:only-of-type {\n        vertical-align: middle;\n    }\n\n    .dataframe tbody tr th {\n        vertical-align: top;\n    }\n\n    .dataframe thead th {\n        text-align: right;\n    }\n</style>\n<table border=\"1\" class=\"dataframe\">\n  <thead>\n    <tr style=\"text-align: right;\">\n      <th></th>\n      <th>Datetime</th>\n      <th>SP500</th>\n      <th>DOW30</th>\n      <th>EuroStoxx50</th>\n      <th>NASDAQ</th>\n      <th>CrudeOil</th>\n      <th>SSE</th>\n      <th>Gold</th>\n      <th>VIX</th>\n      <th>Nikkei225</th>\n      <th>...</th>\n      <th>total_volume_quote</th>\n      <th>total_volume_base</th>\n      <th>total_volume_total</th>\n      <th>volume</th>\n      <th>high</th>\n      <th>low</th>\n      <th>open</th>\n      <th>close</th>\n      <th>volumefrom</th>\n      <th>volumeto</th>\n    </tr>\n  </thead>\n  <tbody>\n    <tr>\n      <th>667</th>\n      <td>2022-02-28 10:00:00-05:00</td>\n      <td>4360.924805</td>\n      <td>33767.826172</td>\n      <td>3915.540039</td>\n      <td>13709.718262</td>\n      <td>95.510002</td>\n      <td>3457.902100</td>\n      <td>1910.400024</td>\n      <td>30.559999</td>\n      <td>26522.330078</td>\n      <td>...</td>\n      <td>4.074564e+08</td>\n      <td>8.501518e+09</td>\n      <td>8.908974e+09</td>\n      <td>100298.59</td>\n      <td>40917.71</td>\n      <td>39652.14</td>\n      <td>39849.29</td>\n      <td>40845.79</td>\n      <td>7495.87</td>\n      <td>3.026021e+08</td>\n    </tr>\n    <tr>\n      <th>668</th>\n      <td>2022-02-28 11:00:00-05:00</td>\n      <td>4369.179932</td>\n      <td>33849.894531</td>\n      <td>3933.479980</td>\n      <td>13734.242676</td>\n      <td>95.440002</td>\n      <td>3457.902100</td>\n      <td>1894.500000</td>\n      <td>28.690001</td>\n      <td>26522.330078</td>\n      <td>...</td>\n      <td>2.951618e+08</td>\n      <td>7.640820e+09</td>\n      <td>7.935982e+09</td>\n      <td>71235.25</td>\n      <td>41338.07</td>\n      <td>40736.36</td>\n      <td>40845.79</td>\n      <td>41021.81</td>\n      <td>5232.77</td>\n      <td>2.148198e+08</td>\n    </tr>\n    <tr>\n      <th>669</th>\n      <td>2022-02-28 12:00:00-05:00</td>\n      <td>4349.699951</td>\n      <td>33720.744141</td>\n      <td>3933.479980</td>\n      <td>13666.251465</td>\n      <td>96.209999</td>\n      <td>3457.902100</td>\n      <td>1900.900024</td>\n      <td>30.639999</td>\n      <td>26522.330078</td>\n      <td>...</td>\n      <td>2.022620e+08</td>\n      <td>6.928419e+09</td>\n      <td>7.130681e+09</td>\n      <td>40264.68</td>\n      <td>41320.14</td>\n      <td>40768.17</td>\n      <td>41021.81</td>\n      <td>41319.61</td>\n      <td>2842.60</td>\n      <td>1.165622e+08</td>\n    </tr>\n    <tr>\n      <th>670</th>\n      <td>2022-02-28 13:00:00-05:00</td>\n      <td>4332.359863</td>\n      <td>33589.654297</td>\n      <td>3933.479980</td>\n      <td>13607.824707</td>\n      <td>96.459999</td>\n      <td>3457.902100</td>\n      <td>1900.699951</td>\n      <td>30.820000</td>\n      <td>26522.330078</td>\n      <td>...</td>\n      <td>1.731512e+08</td>\n      <td>6.676633e+09</td>\n      <td>6.849784e+09</td>\n      <td>34319.26</td>\n      <td>41427.99</td>\n      <td>41082.37</td>\n      <td>41319.61</td>\n      <td>41217.44</td>\n      <td>2455.10</td>\n      <td>1.013162e+08</td>\n    </tr>\n    <tr>\n      <th>671</th>\n      <td>2022-02-28 14:00:00-05:00</td>\n      <td>4331.229980</td>\n      <td>33588.664062</td>\n      <td>3933.479980</td>\n      <td>13605.203125</td>\n      <td>95.680000</td>\n      <td>3457.902100</td>\n      <td>1908.300049</td>\n      <td>31.920000</td>\n      <td>26522.330078</td>\n      <td>...</td>\n      <td>1.655895e+08</td>\n      <td>5.810772e+09</td>\n      <td>5.976362e+09</td>\n      <td>28324.04</td>\n      <td>41377.67</td>\n      <td>41057.84</td>\n      <td>41217.44</td>\n      <td>41357.77</td>\n      <td>2007.00</td>\n      <td>8.271987e+07</td>\n    </tr>\n    <tr>\n      <th>...</th>\n      <td>...</td>\n      <td>...</td>\n      <td>...</td>\n      <td>...</td>\n      <td>...</td>\n      <td>...</td>\n      <td>...</td>\n      <td>...</td>\n      <td>...</td>\n      <td>...</td>\n      <td>...</td>\n      <td>...</td>\n      <td>...</td>\n      <td>...</td>\n      <td>...</td>\n      <td>...</td>\n      <td>...</td>\n      <td>...</td>\n      <td>...</td>\n      <td>...</td>\n      <td>...</td>\n    </tr>\n    <tr>\n      <th>18064</th>\n      <td>2024-02-20 11:00:00-05:00</td>\n      <td>4969.645020</td>\n      <td>38550.503906</td>\n      <td>4763.259766</td>\n      <td>15567.405273</td>\n      <td>78.860001</td>\n      <td>2920.561279</td>\n      <td>2038.500000</td>\n      <td>15.580000</td>\n      <td>38409.390625</td>\n      <td>...</td>\n      <td>1.727552e+09</td>\n      <td>1.730651e+09</td>\n      <td>3.458204e+09</td>\n      <td>33578.32</td>\n      <td>51795.47</td>\n      <td>51369.97</td>\n      <td>51693.91</td>\n      <td>51396.39</td>\n      <td>1748.02</td>\n      <td>9.020375e+07</td>\n    </tr>\n    <tr>\n      <th>18065</th>\n      <td>2024-02-20 12:00:00-05:00</td>\n      <td>4961.074951</td>\n      <td>38504.060547</td>\n      <td>4763.259766</td>\n      <td>15532.355957</td>\n      <td>79.169998</td>\n      <td>2920.561279</td>\n      <td>2040.000000</td>\n      <td>15.640000</td>\n      <td>38409.390625</td>\n      <td>...</td>\n      <td>3.983693e+08</td>\n      <td>3.721585e+09</td>\n      <td>4.119954e+09</td>\n      <td>44409.48</td>\n      <td>51397.71</td>\n      <td>50766.77</td>\n      <td>51396.39</td>\n      <td>51321.90</td>\n      <td>3702.71</td>\n      <td>1.892794e+08</td>\n    </tr>\n    <tr>\n      <th>18066</th>\n      <td>2024-02-20 13:00:00-05:00</td>\n      <td>4965.669922</td>\n      <td>38540.031250</td>\n      <td>4763.259766</td>\n      <td>15555.064941</td>\n      <td>79.230003</td>\n      <td>2920.561279</td>\n      <td>2038.599976</td>\n      <td>15.500000</td>\n      <td>38409.390625</td>\n      <td>...</td>\n      <td>1.272772e+08</td>\n      <td>1.996156e+09</td>\n      <td>2.123433e+09</td>\n      <td>22321.76</td>\n      <td>51536.57</td>\n      <td>51236.14</td>\n      <td>51321.90</td>\n      <td>51504.22</td>\n      <td>1518.03</td>\n      <td>7.796947e+07</td>\n    </tr>\n    <tr>\n      <th>18067</th>\n      <td>2024-02-20 14:00:00-05:00</td>\n      <td>4973.215088</td>\n      <td>38575.441406</td>\n      <td>4763.259766</td>\n      <td>15592.756348</td>\n      <td>78.269997</td>\n      <td>2920.561279</td>\n      <td>2036.500000</td>\n      <td>15.330000</td>\n      <td>38409.390625</td>\n      <td>...</td>\n      <td>2.904525e+08</td>\n      <td>2.182250e+09</td>\n      <td>2.472703e+09</td>\n      <td>28053.63</td>\n      <td>52111.16</td>\n      <td>51439.74</td>\n      <td>51504.22</td>\n      <td>52095.65</td>\n      <td>1791.37</td>\n      <td>9.274488e+07</td>\n    </tr>\n    <tr>\n      <th>18068</th>\n      <td>2024-02-20 15:00:00-05:00</td>\n      <td>4976.480225</td>\n      <td>38583.605469</td>\n      <td>4763.259766</td>\n      <td>15624.660156</td>\n      <td>78.269997</td>\n      <td>2920.561279</td>\n      <td>2035.800049</td>\n      <td>15.310000</td>\n      <td>38409.390625</td>\n      <td>...</td>\n      <td>5.113036e+07</td>\n      <td>4.407568e+08</td>\n      <td>4.918871e+08</td>\n      <td>13645.87</td>\n      <td>52222.07</td>\n      <td>51950.84</td>\n      <td>52095.65</td>\n      <td>52167.67</td>\n      <td>2529.55</td>\n      <td>1.317853e+08</td>\n    </tr>\n  </tbody>\n</table>\n<p>12447 rows × 32 columns</p>\n</div>"
     },
     "execution_count": 48,
     "metadata": {},
     "output_type": "execute_result"
    }
   ],
   "source": [
    "merged_df"
   ],
   "metadata": {
    "collapsed": false,
    "ExecuteTime": {
     "end_time": "2024-02-26T23:18:38.895334Z",
     "start_time": "2024-02-26T23:18:38.865330Z"
    }
   },
   "id": "b8e57d436bda9429",
   "execution_count": 48
  },
  {
   "cell_type": "code",
   "outputs": [],
   "source": [],
   "metadata": {
    "collapsed": false,
    "ExecuteTime": {
     "end_time": "2024-02-26T23:18:38.910604Z",
     "start_time": "2024-02-26T23:18:38.896573Z"
    }
   },
   "id": "5eb63a8b41ac4822",
   "execution_count": 49
  }
 ],
 "metadata": {
  "kernelspec": {
   "display_name": "Python 3",
   "language": "python",
   "name": "python3"
  },
  "language_info": {
   "codemirror_mode": {
    "name": "ipython",
    "version": 2
   },
   "file_extension": ".py",
   "mimetype": "text/x-python",
   "name": "python",
   "nbconvert_exporter": "python",
   "pygments_lexer": "ipython2",
   "version": "2.7.6"
  }
 },
 "nbformat": 4,
 "nbformat_minor": 5
}
